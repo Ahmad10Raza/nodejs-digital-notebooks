{
 "cells": [
  {
   "cell_type": "markdown",
   "metadata": {},
   "source": [
    "# What is NPM?"
   ]
  },
  {
   "cell_type": "markdown",
   "metadata": {},
   "source": [
    "NPM (Node Package Manager) is a package manager for JavaScript and is the default package manager for Node.js. It allows developers to share and reuse code, and it makes it easy to manage project dependencies. Here are some key points about NPM:\n",
    "\n",
    "### Key Features\n",
    "\n",
    "1. **Package Management**:\n",
    "   - **Install Packages**: Easily install libraries and tools from the NPM registry.\n",
    "   - **Update Packages**: Keep your dependencies up-to-date.\n",
    "   - **Uninstall Packages**: Remove packages that are no longer needed.\n",
    "\n",
    "2. **Dependency Management**:\n",
    "   - **Package.json**: A file that lists all the dependencies of a project, along with other metadata like the project name, version, and scripts.\n",
    "   - **Semantic Versioning**: Ensures compatibility between different versions of packages.\n",
    "\n",
    "3. **Scripts**:\n",
    "   - **Custom Scripts**: Define custom scripts to automate tasks like testing, building, and deploying your application.\n",
    "\n",
    "### Basic Commands\n",
    "\n",
    "- **Initialize a Project**:\n",
    "  ```sh\n",
    "  npm init\n",
    "  ```\n",
    "  This command creates a `package.json` file in your project directory.\n",
    "\n",
    "- **Install a Package**:\n",
    "  ```sh\n",
    "  npm install <package-name>\n",
    "  ```\n",
    "  This command installs a package and adds it to the `dependencies` section of your `package.json`.\n",
    "\n",
    "- **Install a Package Globally**:\n",
    "  ```sh\n",
    "  npm install -g <package-name>\n",
    "  ```\n",
    "  This command installs a package globally, making it available from anywhere on your system.\n",
    "\n",
    "- **Uninstall a Package**:\n",
    "  ```sh\n",
    "  npm uninstall <package-name>\n",
    "  ```\n",
    "  This command removes a package from your project and updates the `package.json` file.\n",
    "\n",
    "- **Update Packages**:\n",
    "  ```sh\n",
    "  npm update\n",
    "  ```\n",
    "  This command updates all the packages in your project to their latest versions.\n",
    "\n",
    "- **Run Scripts**:\n",
    "  ```sh\n",
    "  npm run <script-name>\n",
    "  ```\n",
    "  This command runs a custom script defined in the `scripts` section of your `package.json`.\n",
    "\n",
    "### Example `package.json`\n",
    "\n",
    "Here is an example of a `package.json` file:\n",
    "\n"
   ]
  },
  {
   "cell_type": "code",
   "execution_count": null,
   "metadata": {
    "vscode": {
     "languageId": "json"
    }
   },
   "outputs": [],
   "source": [
    "{\n",
    "  \"name\": \"my-project\",\n",
    "  \"version\": \"1.0.0\",\n",
    "  \"description\": \"A simple project\",\n",
    "  \"main\": \"index.js\",\n",
    "  \"scripts\": {\n",
    "    \"start\": \"node index.js\",\n",
    "    \"test\": \"echo \\\"Error: no test specified\\\" && exit 1\"\n",
    "  },\n",
    "  \"author\": \"Your Name\",\n",
    "  \"license\": \"ISC\",\n",
    "  \"dependencies\": {\n",
    "    \"express\": \"^4.17.1\"\n",
    "  }\n",
    "}"
   ]
  },
  {
   "cell_type": "markdown",
   "metadata": {},
   "source": [
    "\n",
    "\n",
    "### Summary\n",
    "\n",
    "NPM is an essential tool for modern JavaScript development, providing a robust ecosystem for managing dependencies and automating tasks. It simplifies the process of sharing and reusing code, making it easier to build and maintain projects."
   ]
  },
  {
   "cell_type": "markdown",
   "metadata": {},
   "source": [
    "# Thank You"
   ]
  }
 ],
 "metadata": {
  "language_info": {
   "name": "python"
  }
 },
 "nbformat": 4,
 "nbformat_minor": 2
}
