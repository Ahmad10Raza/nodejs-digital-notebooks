{
 "cells": [
  {
   "cell_type": "markdown",
   "metadata": {},
   "source": [
    "# The Built-in URL Module?"
   ]
  },
  {
   "cell_type": "markdown",
   "metadata": {},
   "source": [
    "The built-in `url` module in Node.js provides utilities for URL resolution and parsing. It can be used to parse URLs, resolve relative URLs, and format URLs. Below are some key functionalities of the `url` module.\n",
    "\n",
    "### Importing the URL Module\n",
    "\n",
    "To use the `url` module, you need to require it in your Node.js script:\n",
    "\n"
   ]
  },
  {
   "cell_type": "code",
   "execution_count": null,
   "metadata": {
    "vscode": {
     "languageId": "javascript"
    }
   },
   "outputs": [],
   "source": [
    "const url = require('url');"
   ]
  },
  {
   "cell_type": "markdown",
   "metadata": {},
   "source": [
    "\n",
    "\n",
    "### Parsing URLs\n",
    "\n",
    "The `url.parse()` method takes a URL string and returns an object containing various properties of the URL.\n",
    "\n",
    "#### Example\n",
    "\n"
   ]
  },
  {
   "cell_type": "code",
   "execution_count": null,
   "metadata": {
    "vscode": {
     "languageId": "javascript"
    }
   },
   "outputs": [],
   "source": [
    "const url = require('url');\n",
    "\n",
    "const myURL = url.parse('https://example.com:8080/path/name?query=string#hash');\n",
    "\n",
    "console.log(myURL);"
   ]
  },
  {
   "cell_type": "markdown",
   "metadata": {},
   "source": [
    "\n",
    "\n",
    "#### Output\n",
    "\n"
   ]
  },
  {
   "cell_type": "code",
   "execution_count": null,
   "metadata": {
    "vscode": {
     "languageId": "json"
    }
   },
   "outputs": [],
   "source": [
    "{\n",
    "  \"protocol\": \"https:\",\n",
    "  \"slashes\": true,\n",
    "  \"auth\": null,\n",
    "  \"host\": \"example.com:8080\",\n",
    "  \"port\": \"8080\",\n",
    "  \"hostname\": \"example.com\",\n",
    "  \"hash\": \"#hash\",\n",
    "  \"search\": \"?query=string\",\n",
    "  \"query\": \"query=string\",\n",
    "  \"pathname\": \"/path/name\",\n",
    "  \"path\": \"/path/name?query=string\",\n",
    "  \"href\": \"https://example.com:8080/path/name?query=string#hash\"\n",
    "}"
   ]
  },
  {
   "cell_type": "markdown",
   "metadata": {},
   "source": [
    "\n",
    "\n",
    "### Formatting URLs\n",
    "\n",
    "The `url.format()` method takes a URL object and returns a formatted URL string.\n",
    "\n",
    "#### Example\n",
    "\n"
   ]
  },
  {
   "cell_type": "code",
   "execution_count": null,
   "metadata": {
    "vscode": {
     "languageId": "javascript"
    }
   },
   "outputs": [],
   "source": [
    "const url = require('url');\n",
    "\n",
    "const myURL = {\n",
    "  protocol: 'https:',\n",
    "  hostname: 'example.com',\n",
    "  port: '8080',\n",
    "  pathname: '/path/name',\n",
    "  search: '?query=string',\n",
    "  hash: '#hash'\n",
    "};\n",
    "\n",
    "const formattedURL = url.format(myURL);\n",
    "console.log(formattedURL);"
   ]
  },
  {
   "cell_type": "markdown",
   "metadata": {},
   "source": [
    "\n",
    "\n",
    "#### Output\n",
    "\n"
   ]
  },
  {
   "cell_type": "code",
   "execution_count": null,
   "metadata": {
    "vscode": {
     "languageId": ""
    }
   },
   "outputs": [],
   "source": [
    "https://example.com:8080/path/name?query=string#hash"
   ]
  },
  {
   "cell_type": "markdown",
   "metadata": {},
   "source": [
    "\n",
    "\n",
    "### Resolving URLs\n",
    "\n",
    "The `url.resolve()` method resolves a target URL relative to a base URL.\n",
    "\n",
    "#### Example\n",
    "\n"
   ]
  },
  {
   "cell_type": "code",
   "execution_count": null,
   "metadata": {
    "vscode": {
     "languageId": "javascript"
    }
   },
   "outputs": [],
   "source": [
    "const url = require('url');\n",
    "\n",
    "const baseURL = 'https://example.com/path/';\n",
    "const relativeURL = 'subpath/file.html';\n",
    "\n",
    "const resolvedURL = url.resolve(baseURL, relativeURL);\n",
    "console.log(resolvedURL);"
   ]
  },
  {
   "cell_type": "markdown",
   "metadata": {},
   "source": [
    "\n",
    "\n",
    "#### Output\n",
    "\n"
   ]
  },
  {
   "cell_type": "code",
   "execution_count": null,
   "metadata": {
    "vscode": {
     "languageId": ""
    }
   },
   "outputs": [],
   "source": [
    "https://example.com/path/subpath/file.html"
   ]
  },
  {
   "cell_type": "markdown",
   "metadata": {},
   "source": [
    "\n",
    "\n",
    "### Using the WHATWG URL API\n",
    "\n",
    "Node.js also provides a newer, more standard-compliant URL API based on the WHATWG URL Standard. This API is available through the `URL` and `URLSearchParams` classes.\n",
    "\n",
    "#### Example\n",
    "\n"
   ]
  },
  {
   "cell_type": "code",
   "execution_count": null,
   "metadata": {
    "vscode": {
     "languageId": "javascript"
    }
   },
   "outputs": [],
   "source": [
    "const { URL, URLSearchParams } = require('url');\n",
    "\n",
    "const myURL = new URL('https://example.com:8080/path/name?query=string#hash');\n",
    "\n",
    "console.log(myURL.href); // Full URL\n",
    "console.log(myURL.origin); // Origin\n",
    "console.log(myURL.protocol); // Protocol\n",
    "console.log(myURL.host); // Host\n",
    "console.log(myURL.pathname); // Pathname\n",
    "console.log(myURL.search); // Search\n",
    "console.log(myURL.hash); // Hash\n",
    "\n",
    "// Working with URLSearchParams\n",
    "const params = new URLSearchParams(myURL.search);\n",
    "params.append('newParam', 'newValue');\n",
    "console.log(params.toString()); // query=string&newParam=newValue"
   ]
  },
  {
   "cell_type": "markdown",
   "metadata": {},
   "source": [
    "\n",
    "\n",
    "### Key Points\n",
    "\n",
    "- **Parsing URLs**: Use `url.parse()` to parse a URL string into an object.\n",
    "- **Formatting URLs**: Use `url.format()` to format a URL object into a string.\n",
    "- **Resolving URLs**: Use `url.resolve()` to resolve a target URL relative to a base URL.\n",
    "- **WHATWG URL API**: Use the `URL` and `URLSearchParams` classes for a more modern and standard-compliant API.\n",
    "\n",
    "### Complete Example\n",
    "\n",
    "Here's a complete example demonstrating the use of both the legacy `url` module and the WHATWG URL API:\n",
    "\n"
   ]
  },
  {
   "cell_type": "code",
   "execution_count": null,
   "metadata": {
    "vscode": {
     "languageId": "javascript"
    }
   },
   "outputs": [],
   "source": [
    "const url = require('url');\n",
    "const { URL, URLSearchParams } = require('url');\n",
    "\n",
    "// Legacy URL API\n",
    "const legacyParsedURL = url.parse('https://example.com:8080/path/name?query=string#hash');\n",
    "console.log('Legacy Parsed URL:', legacyParsedURL);\n",
    "\n",
    "const legacyFormattedURL = url.format(legacyParsedURL);\n",
    "console.log('Legacy Formatted URL:', legacyFormattedURL);\n",
    "\n",
    "const legacyResolvedURL = url.resolve('https://example.com/path/', 'subpath/file.html');\n",
    "console.log('Legacy Resolved URL:', legacyResolvedURL);\n",
    "\n",
    "// WHATWG URL API\n",
    "const myURL = new URL('https://example.com:8080/path/name?query=string#hash');\n",
    "console.log('WHATWG URL:', myURL.href);\n",
    "console.log('WHATWG Origin:', myURL.origin);\n",
    "console.log('WHATWG Protocol:', myURL.protocol);\n",
    "console.log('WHATWG Host:', myURL.host);\n",
    "console.log('WHATWG Pathname:', myURL.pathname);\n",
    "console.log('WHATWG Search:', myURL.search);\n",
    "console.log('WHATWG Hash:', myURL.hash);\n",
    "\n",
    "const params = new URLSearchParams(myURL.search);\n",
    "params.append('newParam', 'newValue');\n",
    "console.log('WHATWG URLSearchParams:', params.toString());"
   ]
  },
  {
   "cell_type": "markdown",
   "metadata": {},
   "source": [
    "\n",
    "\n",
    "This example demonstrates how to use both the legacy `url` module and the newer WHATWG URL API to parse, format, and resolve URLs in Node.js."
   ]
  },
  {
   "cell_type": "markdown",
   "metadata": {},
   "source": [
    "# Node.js File Server?"
   ]
  },
  {
   "cell_type": "markdown",
   "metadata": {},
   "source": [
    "A Node.js file server is a server that serves files from the filesystem over HTTP. It can be used to serve static files like HTML, CSS, JavaScript, images, etc. Here's a step-by-step explanation of how to create a simple file server using Node.js.\n",
    "\n",
    "### Step-by-Step Explanation\n",
    "\n",
    "1. **Import Required Modules**:\n",
    "   - `http`: To create an HTTP server.\n",
    "   - `fs`: To interact with the filesystem.\n",
    "   - `path`: To handle and transform file paths.\n",
    "\n",
    "2. **Create the HTTP Server**:\n",
    "   - Use `http.createServer()` to create an HTTP server.\n",
    "   - The server listens for incoming requests and responds accordingly.\n",
    "\n",
    "3. **Handle Incoming Requests**:\n",
    "   - Parse the request URL to determine which file to serve.\n",
    "   - Use `fs.readFile()` to read the requested file from the filesystem.\n",
    "   - Serve the file content with the appropriate MIME type.\n",
    "\n",
    "4. **Set the MIME Type**:\n",
    "   - Use the `path.extname()` method to get the file extension.\n",
    "   - Set the `Content-Type` header based on the file extension.\n",
    "\n",
    "5. **Handle Errors**:\n",
    "   - If the file is not found, respond with a 404 status code.\n",
    "   - Handle other potential errors gracefully.\n",
    "\n",
    "### Example Code\n",
    "\n",
    "Here's a complete example of a simple Node.js file server:\n",
    "\n"
   ]
  },
  {
   "cell_type": "code",
   "execution_count": null,
   "metadata": {
    "vscode": {
     "languageId": "javascript"
    }
   },
   "outputs": [],
   "source": [
    "const http = require('http');\n",
    "const fs = require('fs');\n",
    "const path = require('path');\n",
    "\n",
    "// MIME types for different file extensions\n",
    "const mimeTypes = {\n",
    "  '.html': 'text/html',\n",
    "  '.css': 'text/css',\n",
    "  '.js': 'application/javascript',\n",
    "  '.png': 'image/png',\n",
    "  '.jpg': 'image/jpeg',\n",
    "  '.gif': 'image/gif',\n",
    "  '.json': 'application/json',\n",
    "  '.txt': 'text/plain'\n",
    "};\n",
    "\n",
    "// Create the HTTP server\n",
    "const server = http.createServer((req, res) => {\n",
    "  // Parse the request URL\n",
    "  let filePath = '.' + req.url;\n",
    "  if (filePath === './') {\n",
    "    filePath = './index.html'; // Default to index.html\n",
    "  }\n",
    "\n",
    "  // Get the file extension\n",
    "  const extname = String(path.extname(filePath)).toLowerCase();\n",
    "  const contentType = mimeTypes[extname] || 'application/octet-stream';\n",
    "\n",
    "  // Read the requested file\n",
    "  fs.readFile(filePath, (error, content) => {\n",
    "    if (error) {\n",
    "      if (error.code === 'ENOENT') {\n",
    "        // File not found, respond with 404\n",
    "        fs.readFile('./404.html', (err, data) => {\n",
    "          res.writeHead(404, { 'Content-Type': 'text/html' });\n",
    "          res.end(data, 'utf-8');\n",
    "        });\n",
    "      } else {\n",
    "        // Some server error\n",
    "        res.writeHead(500);\n",
    "        res.end(`Server Error: ${error.code}`);\n",
    "      }\n",
    "    } else {\n",
    "      // Serve the file content\n",
    "      res.writeHead(200, { 'Content-Type': contentType });\n",
    "      res.end(content, 'utf-8');\n",
    "    }\n",
    "  });\n",
    "});\n",
    "\n",
    "// Start the server on port 3000\n",
    "server.listen(3000, () => {\n",
    "  console.log('Server running at http://127.0.0.1:3000/');\n",
    "});"
   ]
  },
  {
   "cell_type": "markdown",
   "metadata": {},
   "source": [
    "\n",
    "\n",
    "### Key Points\n",
    "\n",
    "- **MIME Types**: The `mimeTypes` object maps file extensions to their corresponding MIME types.\n",
    "- **Default File**: If the request URL is `/`, the server serves `index.html` by default.\n",
    "- **Error Handling**: The server handles file not found errors by serving a `404.html` file and other errors with a 500 status code.\n",
    "- **Port**: The server listens on port 3000.\n",
    "\n",
    "### Running the Server\n",
    "\n",
    "1. Save the code to a file, e.g., `fileServer.js`.\n",
    "2. Run the server using Node.js:\n",
    "   ```sh\n",
    "   node fileServer.js\n",
    "   ```\n",
    "3. Open a web browser and navigate to `http://127.0.0.1:3000/` to see the server in action.\n",
    "\n",
    "This example demonstrates a basic file server in Node.js that can be extended to handle more complex scenarios and serve a wider variety of file types."
   ]
  },
  {
   "cell_type": "markdown",
   "metadata": {},
   "source": [
    "## File Server Demo?"
   ]
  },
  {
   "cell_type": "code",
   "execution_count": null,
   "metadata": {
    "vscode": {
     "languageId": ""
    }
   },
   "outputs": [],
   "source": [
    "/your-project-directory\n",
    "  - server.js\n",
    "  - index.html\n",
    "  - about.html\n",
    "  - 404.html"
   ]
  },
  {
   "cell_type": "markdown",
   "metadata": {},
   "source": [
    "\n",
    "\n",
    "### HTML Files\n",
    "\n",
    "#### `index.html`\n",
    "\n"
   ]
  },
  {
   "cell_type": "code",
   "execution_count": null,
   "metadata": {
    "vscode": {
     "languageId": "html"
    }
   },
   "outputs": [],
   "source": [
    "<!DOCTYPE html>\n",
    "<html lang=\"en\">\n",
    "<head>\n",
    "  <meta charset=\"UTF-8\">\n",
    "  <meta name=\"viewport\" content=\"width=device-width, initial-scale=1.0\">\n",
    "  <title>Home Page</title>\n",
    "</head>\n",
    "<body>\n",
    "  <h1>Welcome to the Home Page</h1>\n",
    "  <p>This is the main page.</p>\n",
    "</body>\n",
    "</html>"
   ]
  },
  {
   "cell_type": "markdown",
   "metadata": {},
   "source": [
    "\n",
    "\n",
    "#### `about.html`\n",
    "\n"
   ]
  },
  {
   "cell_type": "code",
   "execution_count": null,
   "metadata": {
    "vscode": {
     "languageId": "html"
    }
   },
   "outputs": [],
   "source": [
    "<!DOCTYPE html>\n",
    "<html lang=\"en\">\n",
    "<head>\n",
    "  <meta charset=\"UTF-8\">\n",
    "  <meta name=\"viewport\" content=\"width=device-width, initial-scale=1.0\">\n",
    "  <title>About Page</title>\n",
    "</head>\n",
    "<body>\n",
    "  <h1>About Us</h1>\n",
    "  <p>This is the about page.</p>\n",
    "</body>\n",
    "</html>"
   ]
  },
  {
   "cell_type": "markdown",
   "metadata": {},
   "source": [
    "\n",
    "\n",
    "#### `404.html`\n",
    "\n"
   ]
  },
  {
   "cell_type": "code",
   "execution_count": null,
   "metadata": {
    "vscode": {
     "languageId": "html"
    }
   },
   "outputs": [],
   "source": [
    "<!DOCTYPE html>\n",
    "<html lang=\"en\">\n",
    "<head>\n",
    "  <meta charset=\"UTF-8\">\n",
    "  <meta name=\"viewport\" content=\"width=device-width, initial-scale=1.0\">\n",
    "  <title>404 Not Found</title>\n",
    "</head>\n",
    "<body>\n",
    "  <h1>404 Not Found</h1>\n",
    "  <p>The page you are looking for does not exist.</p>\n",
    "</body>\n",
    "</html>"
   ]
  },
  {
   "cell_type": "markdown",
   "metadata": {},
   "source": [
    "\n",
    "\n",
    "### Server Code\n",
    "\n",
    "#### `server.js`\n",
    "\n"
   ]
  },
  {
   "cell_type": "code",
   "execution_count": null,
   "metadata": {
    "vscode": {
     "languageId": "javascript"
    }
   },
   "outputs": [],
   "source": [
    "const http = require('http');\n",
    "const fs = require('fs');\n",
    "const path = require('path');\n",
    "\n",
    "// MIME types for different file extensions\n",
    "const mimeTypes = {\n",
    "  '.html': 'text/html',\n",
    "  '.css': 'text/css',\n",
    "  '.js': 'application/javascript',\n",
    "  '.png': 'image/png',\n",
    "  '.jpg': 'image/jpeg',\n",
    "  '.gif': 'image/gif',\n",
    "  '.json': 'application/json',\n",
    "  '.txt': 'text/plain'\n",
    "};\n",
    "\n",
    "// Create the HTTP server\n",
    "const server = http.createServer((req, res) => {\n",
    "  let filePath = '.' + req.url;\n",
    "  if (filePath === './') {\n",
    "    filePath = './index.html'; // Default to index.html\n",
    "  } else if (filePath === './about') {\n",
    "    filePath = './about.html'; // Serve about.html for /about\n",
    "  }\n",
    "\n",
    "  // Get the file extension\n",
    "  const extname = String(path.extname(filePath)).toLowerCase();\n",
    "  const contentType = mimeTypes[extname] || 'application/octet-stream';\n",
    "\n",
    "  // Read the requested file\n",
    "  fs.readFile(filePath, (error, content) => {\n",
    "    if (error) {\n",
    "     \n",
    "\n",
    " if\n",
    "\n",
    " (error.code === 'ENOENT') {\n",
    "        // File not found, respond with 404\n",
    "        fs.readFile('./404.html', (err, data) => {\n",
    "          res.writeHead(404, { 'Content-Type': 'text/html' });\n",
    "          res.end(data, 'utf-8');\n",
    "        });\n",
    "      } else {\n",
    "        // Some server error\n",
    "        res.writeHead(500);\n",
    "        res.end(`Server Error: ${error.code}`);\n",
    "      }\n",
    "    } else {\n",
    "      // Serve the file content\n",
    "      res.writeHead(200, { 'Content-Type': contentType });\n",
    "      res.end(content, 'utf-8');\n",
    "    }\n",
    "  });\n",
    "});\n",
    "\n",
    "// Start the server on port 3000\n",
    "server.listen(3000, () => {\n",
    "  console.log('Server running at http://127.0.0.1:3000/');\n",
    "});"
   ]
  },
  {
   "cell_type": "markdown",
   "metadata": {},
   "source": [
    "\n",
    "\n",
    "### Running the Server\n",
    "\n",
    "1. Save the HTML files (`index.html`, `about.html`, `404.html`) and the server code (`server.js`) in the same directory.\n",
    "2. Open a terminal and navigate to the directory containing these files.\n",
    "3. Run the server using Node.js:\n",
    "   ```sh\n",
    "   node server.js\n",
    "   ```\n",
    "4. Open a web browser and navigate to:\n",
    "   - `http://127.0.0.1:3000/` to see the home page.\n",
    "   - `http://127.0.0.1:3000/about` to see the about page.\n",
    "   - Any other URL to see the 404 page.\n",
    "\n",
    "This setup demonstrates a simple Node.js file server that serves different HTML files based on the requested URL."
   ]
  },
  {
   "cell_type": "markdown",
   "metadata": {},
   "source": [
    "# **Thank You!**"
   ]
  }
 ],
 "metadata": {
  "language_info": {
   "name": "python"
  }
 },
 "nbformat": 4,
 "nbformat_minor": 2
}
