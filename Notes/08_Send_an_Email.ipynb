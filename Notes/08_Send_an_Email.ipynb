{
 "cells": [
  {
   "cell_type": "markdown",
   "metadata": {},
   "source": [
    "# The Nodemailer Module?"
   ]
  },
  {
   "cell_type": "markdown",
   "metadata": {},
   "source": [
    "Nodemailer is a module for Node.js applications to send emails. Below is a step-by-step guide on how to use Nodemailer to send emails.\n",
    "\n",
    "### Step 1: Install Nodemailer\n",
    "\n",
    "First, you need to install Nodemailer using npm:\n",
    "\n"
   ]
  },
  {
   "cell_type": "code",
   "execution_count": null,
   "metadata": {
    "vscode": {
     "languageId": "sh"
    }
   },
   "outputs": [],
   "source": [
    "npm install nodemailer"
   ]
  },
  {
   "cell_type": "markdown",
   "metadata": {},
   "source": [
    "\n",
    "\n",
    "### Step 2: Set Up the Project\n",
    "\n",
    "Create a new directory for your project and navigate into it:\n",
    "\n"
   ]
  },
  {
   "cell_type": "code",
   "execution_count": null,
   "metadata": {
    "vscode": {
     "languageId": "sh"
    }
   },
   "outputs": [],
   "source": [
    "mkdir email-sender\n",
    "cd email-sender"
   ]
  },
  {
   "cell_type": "markdown",
   "metadata": {},
   "source": [
    "\n",
    "\n",
    "Initialize a new Node.js project:\n",
    "\n"
   ]
  },
  {
   "cell_type": "code",
   "execution_count": null,
   "metadata": {
    "vscode": {
     "languageId": "sh"
    }
   },
   "outputs": [],
   "source": [
    "npm init -y"
   ]
  },
  {
   "cell_type": "markdown",
   "metadata": {},
   "source": [
    "\n",
    "\n",
    "### Step 3: Create the Email Sending Script\n",
    "\n",
    "Create a file named `sendEmail.js` and set up Nodemailer to send an email.\n",
    "\n",
    "### Step 4: Write the Code\n",
    "\n",
    "Here is the complete code for `sendEmail.js`:\n",
    "\n"
   ]
  },
  {
   "cell_type": "code",
   "execution_count": null,
   "metadata": {
    "vscode": {
     "languageId": "javascript"
    }
   },
   "outputs": [],
   "source": [
    "const nodemailer = require('nodemailer');\n",
    "\n",
    "// Create a transporter object using the default SMTP transport\n",
    "let transporter = nodemailer.createTransport({\n",
    "  service: 'gmail', // Use 'gmail' for Gmail, or specify another email\n",
    "\n",
    " service\n",
    "\n",
    "\n",
    "  auth: {\n",
    "    user: 'your-email@gmail.com', // Your email address\n",
    "    pass: 'your-email-password'   // Your email password or app-specific password\n",
    "  }\n",
    "});\n",
    "\n",
    "// Set up email data\n",
    "let mailOptions = {\n",
    "  from: '\"Sender Name\" <your-email@gmail.com>', // Sender address\n",
    "  to: 'recipient-email@example.com',            // List of recipients\n",
    "  subject: 'Hello ✔',                           // Subject line\n",
    "  text: 'Hello world?',                         // Plain text body\n",
    "  html: '<b>Hello world?</b>'                   // HTML body\n",
    "};\n",
    "\n",
    "// Send mail with defined transport object\n",
    "transporter.sendMail(mailOptions, (error, info) => {\n",
    "  if (error) {\n",
    "    return console.log(error);\n",
    "  }\n",
    "  console.log('Message sent: %s', info.messageId);\n",
    "  console.log('Preview URL: %s', nodemailer.getTestMessageUrl(info));\n",
    "});"
   ]
  },
  {
   "cell_type": "markdown",
   "metadata": {},
   "source": [
    "\n",
    "\n",
    "### Step 5: Run the Script\n",
    "\n",
    "Run the script by executing the following command:\n",
    "\n"
   ]
  },
  {
   "cell_type": "code",
   "execution_count": null,
   "metadata": {
    "vscode": {
     "languageId": "sh"
    }
   },
   "outputs": [],
   "source": [
    "node sendEmail.js"
   ]
  },
  {
   "cell_type": "markdown",
   "metadata": {},
   "source": [
    "\n",
    "\n",
    "### Summary\n",
    "\n",
    "1. **Install Nodemailer**:\n",
    "   ```sh\n",
    "   npm install nodemailer\n",
    "   ```\n",
    "\n",
    "2. **Set Up Project**:\n",
    "   ```sh\n",
    "   mkdir email-sender\n",
    "   cd email-sender\n",
    "   npm init -y\n",
    "   ```\n",
    "\n",
    "3. **Create `sendEmail.js`**:\n",
    "   ```javascript\n",
    "   const nodemailer = require('nodemailer');\n",
    "\n",
    "   let transporter = nodemailer.createTransport({\n",
    "     service: 'gmail',\n",
    "     auth: {\n",
    "       user: 'your-email@gmail.com',\n",
    "       pass: 'your-email-password'\n",
    "     }\n",
    "   });\n",
    "\n",
    "   let mailOptions = {\n",
    "     from: '\"Sender Name\" <your-email@gmail.com>',\n",
    "     to: 'recipient-email@example.com',\n",
    "     subject: 'Hello ✔',\n",
    "     text: 'Hello world?',\n",
    "     html: '<b>Hello world?</b>'\n",
    "   };\n",
    "\n",
    "   transporter.sendMail(mailOptions, (error, info) => {\n",
    "     if (error) {\n",
    "       return console.log(error);\n",
    "     }\n",
    "     console.log('Message sent: %s', info.messageId);\n",
    "     console.log('Preview URL: %s', nodemailer.getTestMessageUrl(info));\n",
    "   });\n",
    "   ```\n",
    "\n",
    "4. **Run the Script**:\n",
    "   ```sh\n",
    "   node sendEmail.js\n",
    "   ```\n",
    "\n",
    "This process will allow you to send emails using Nodemailer in a Node.js application. Make sure to replace `'your-email@gmail.com'` and `'your-email-password'` with your actual email credentials. For Gmail, you might need to enable \"Less secure app access\" or use an app-specific password if you have 2FA enabled."
   ]
  },
  {
   "cell_type": "markdown",
   "metadata": {},
   "source": [
    "# Thank You!"
   ]
  }
 ],
 "metadata": {
  "language_info": {
   "name": "python"
  }
 },
 "nbformat": 4,
 "nbformat_minor": 2
}
