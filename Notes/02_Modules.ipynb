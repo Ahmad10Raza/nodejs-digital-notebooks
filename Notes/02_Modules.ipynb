{
 "cells": [
  {
   "cell_type": "markdown",
   "metadata": {},
   "source": [
    "# What is a Module in Node.js?"
   ]
  },
  {
   "cell_type": "markdown",
   "metadata": {},
   "source": [
    "A module in Node.js is a reusable block of code whose existence does not impact other code unless explicitly imported. Modules help in organizing code into manageable pieces and promote code reuse.\n",
    "\n",
    "### Types of Modules\n",
    "\n",
    "1. **Core Modules**: Built-in modules provided by Node.js (e.g., `http`, `fs`, `path`).\n",
    "2. **Local Modules**: Custom modules created by the user.\n",
    "3. **Third-Party Modules**: Modules installed via npm (Node Package Manager).\n",
    "\n",
    "### Creating and Using Modules\n",
    "\n",
    "#### 1. Core Modules\n",
    "\n",
    "Core modules are included with Node.js and can be used without installation.\n",
    "\n"
   ]
  },
  {
   "cell_type": "code",
   "execution_count": null,
   "metadata": {
    "vscode": {
     "languageId": "javascript"
    }
   },
   "outputs": [],
   "source": [
    "const http = require('http');"
   ]
  },
  {
   "cell_type": "markdown",
   "metadata": {},
   "source": [
    "\n",
    "\n",
    "#### 2. Local Modules\n",
    "\n",
    "You can create your own modules and export functions, objects, or values.\n",
    "\n",
    "**math.js**\n"
   ]
  },
  {
   "cell_type": "code",
   "execution_count": null,
   "metadata": {
    "vscode": {
     "languageId": "javascript"
    }
   },
   "outputs": [],
   "source": [
    "// Define a function\n",
    "function add(a, b) {\n",
    "  return a + b;\n",
    "}\n",
    "\n",
    "// Export the function\n",
    "module.exports = add;"
   ]
  },
  {
   "cell_type": "markdown",
   "metadata": {},
   "source": [
    "\n",
    "\n",
    "**app.js**\n"
   ]
  },
  {
   "cell_type": "code",
   "execution_count": null,
   "metadata": {
    "vscode": {
     "languageId": "javascript"
    }
   },
   "outputs": [],
   "source": [
    "// Import the local module\n",
    "const add = require('./math');\n",
    "\n",
    "// Use the imported function\n",
    "console.log(add(2, 3)); // Output: 5"
   ]
  },
  {
   "cell_type": "markdown",
   "metadata": {},
   "source": [
    "\n",
    "\n",
    "#### 3. Third-Party Modules\n",
    "\n",
    "Install third-party modules using npm and then require them in your code.\n",
    "\n"
   ]
  },
  {
   "cell_type": "code",
   "execution_count": null,
   "metadata": {
    "vscode": {
     "languageId": "sh"
    }
   },
   "outputs": [],
   "source": [
    "npm install express"
   ]
  },
  {
   "cell_type": "markdown",
   "metadata": {},
   "source": [
    "\n",
    "\n",
    "**app.js**\n"
   ]
  },
  {
   "cell_type": "code",
   "execution_count": null,
   "metadata": {
    "vscode": {
     "languageId": "javascript"
    }
   },
   "outputs": [],
   "source": [
    "// Import the third-party module\n",
    "const express = require('express');\n",
    "const app = express();\n",
    "\n",
    "// Use the module\n",
    "app.get('/', (req, res) => {\n",
    "  res.send('Hello, World!');\n",
    "});\n",
    "\n",
    "app.listen(3000, () => {\n",
    "  console.log('Server is running on port 3000');\n",
    "});"
   ]
  },
  {
   "cell_type": "markdown",
   "metadata": {},
   "source": [
    "\n",
    "\n",
    "### Key Points\n",
    "\n",
    "- **Exporting**: Use `module.exports` to export functions, objects, or values from a module.\n",
    "- **Importing**: Use `require` to import modules into your code.\n",
    "- **Encapsulation**: Modules encapsulate code, making it easier to manage and maintain.\n",
    "\n",
    "Modules are fundamental to Node.js development, enabling modular, maintainable, and reusable code."
   ]
  },
  {
   "cell_type": "markdown",
   "metadata": {},
   "source": [
    "# How can I create my own module in Node.js?"
   ]
  },
  {
   "cell_type": "markdown",
   "metadata": {},
   "source": [
    "To create your own module in Node.js, follow these steps:\n",
    "\n",
    "1. **Create a New JavaScript File**: This file will contain the code for your module.\n",
    "2. **Define Functions, Objects, or Values**: Write the code you want to encapsulate in the module.\n",
    "3. **Export the Module**: Use `module.exports` to make the functions, objects, or values available for import in other files.\n",
    "\n",
    "### Example\n",
    "\n",
    "#### Step 1: Create a New JavaScript File\n",
    "\n",
    "Create a file named `math.js`.\n",
    "\n",
    "#### Step 2: Define Functions, Objects, or Values\n",
    "\n",
    "In `math.js`, define the functions you want to export.\n",
    "\n"
   ]
  },
  {
   "cell_type": "code",
   "execution_count": null,
   "metadata": {
    "vscode": {
     "languageId": "javascript"
    }
   },
   "outputs": [],
   "source": [
    "// math.js\n",
    "\n",
    "// Define a function to add two numbers\n",
    "function add(a, b) {\n",
    "  return a + b;\n",
    "}\n",
    "\n",
    "// Define a function to subtract two numbers\n",
    "function subtract(a, b) {\n",
    "  return a - b;\n",
    "}\n",
    "\n",
    "// Export the functions\n",
    "module.exports = {\n",
    "  add,\n",
    "  subtract\n",
    "};"
   ]
  },
  {
   "cell_type": "markdown",
   "metadata": {},
   "source": [
    "\n",
    "\n",
    "#### Step 3: Export the Module\n",
    "\n",
    "In the same file, use `module.exports` to export the functions.\n",
    "\n"
   ]
  },
  {
   "cell_type": "code",
   "execution_count": null,
   "metadata": {
    "vscode": {
     "languageId": "javascript"
    }
   },
   "outputs": [],
   "source": [
    "// Already included in the above code\n",
    "module.exports = {\n",
    "  add,\n",
    "  subtract\n",
    "};"
   ]
  },
  {
   "cell_type": "markdown",
   "metadata": {},
   "source": [
    "\n",
    "\n",
    "### Using the Custom Module\n",
    "\n",
    "Now, you can import and use this module in another file.\n",
    "\n",
    "#### Create a New File to Use the Module\n",
    "\n",
    "Create a file named [`app.js`](command:_github.copilot.openSymbolFromReferences?%5B%7B%22%24mid%22%3A1%2C%22fsPath%22%3A%22d%3A%5C%5CDATA%20SCIENCE%5C%5CGithub%5C%5Cnodejs-digital-notebooks%5C%5CNotes%5C%5C02_Modules.ipynb%22%2C%22_sep%22%3A1%2C%22external%22%3A%22vscode-notebook-cell%3A%2Fd%253A%2FDATA%2520SCIENCE%2FGithub%2Fnodejs-digital-notebooks%2FNotes%2F02_Modules.ipynb%23X14sZmlsZQ%253D%253D%22%2C%22path%22%3A%22%2Fd%3A%2FDATA%20SCIENCE%2FGithub%2Fnodejs-digital-notebooks%2FNotes%2F02_Modules.ipynb%22%2C%22scheme%22%3A%22vscode-notebook-cell%22%2C%22fragment%22%3A%22X14sZmlsZQ%3D%3D%22%7D%2C%7B%22line%22%3A2%2C%22character%22%3A0%7D%5D \"d:\\DATA SCIENCE\\Github\\nodejs-digital-notebooks\\Notes\\02_Modules.ipynb\").\n",
    "\n",
    "#### Import and Use the Custom Module\n",
    "\n",
    "In [`app.js`](command:_github.copilot.openSymbolFromReferences?%5B%7B%22%24mid%22%3A1%2C%22fsPath%22%3A%22d%3A%5C%5CDATA%20SCIENCE%5C%5CGithub%5C%5Cnodejs-digital-notebooks%5C%5CNotes%5C%5C02_Modules.ipynb%22%2C%22_sep%22%3A1%2C%22external%22%3A%22vscode-notebook-cell%3A%2Fd%253A%2FDATA%2520SCIENCE%2FGithub%2Fnodejs-digital-notebooks%2FNotes%2F02_Modules.ipynb%23X14sZmlsZQ%253D%253D%22%2C%22path%22%3A%22%2Fd%3A%2FDATA%20SCIENCE%2FGithub%2Fnodejs-digital-notebooks%2FNotes%2F02_Modules.ipynb%22%2C%22scheme%22%3A%22vscode-notebook-cell%22%2C%22fragment%22%3A%22X14sZmlsZQ%3D%3D%22%7D%2C%7B%22line%22%3A2%2C%22character%22%3A0%7D%5D \"d:\\DATA SCIENCE\\Github\\nodejs-digital-notebooks\\Notes\\02_Modules.ipynb\"), import the custom module and use its functions.\n",
    "\n"
   ]
  },
  {
   "cell_type": "code",
   "execution_count": null,
   "metadata": {
    "vscode": {
     "languageId": "javascript"
    }
   },
   "outputs": [],
   "source": [
    "// app.js\n",
    "\n",
    "// Import the custom module\n",
    "const math = require('./math');\n",
    "\n",
    "// Use the functions from the custom module\n",
    "const sum = math.add(5, 3);\n",
    "const difference = math.subtract(5, 3);\n",
    "\n",
    "console.log(`Sum: ${sum}`);           // Output: Sum: 8\n",
    "console.log(`Difference: ${difference}`); // Output: Difference: 2"
   ]
  },
  {
   "cell_type": "markdown",
   "metadata": {},
   "source": [
    "\n",
    "\n",
    "### Key Points\n",
    "\n",
    "- **File Naming**: The module file can have any name, but it should have a `.js` extension.\n",
    "- **Exporting**: Use `module.exports` to export functions, objects, or values.\n",
    "- **Importing**: Use `require` to import the module in another file.\n",
    "- **Path**: Use a relative path (`./`) to import local modules.\n",
    "\n",
    "This approach helps in organizing code into reusable and maintainable modules."
   ]
  },
  {
   "cell_type": "markdown",
   "metadata": {},
   "source": [
    "# **Node.js HTTP Module**"
   ]
  },
  {
   "cell_type": "markdown",
   "metadata": {},
   "source": [
    "## The Built-in HTTP Module"
   ]
  },
  {
   "cell_type": "markdown",
   "metadata": {},
   "source": [
    "The built-in HTTP module in Node.js allows you to create web servers and handle HTTP requests and responses. It provides a set of functions and classes to facilitate the creation of server-side applications that can interact with clients over the HTTP protocol.\n",
    "\n",
    "### Key Features\n",
    "\n",
    "1. **Creating a Server**: You can create an HTTP server that listens for incoming requests on a specified port.\n",
    "2. **Handling Requests and Responses**: The server can handle various types of HTTP requests (GET, POST, etc.) and send appropriate responses.\n",
    "3. **Routing**: You can define different routes to handle different endpoints.\n",
    "4. **Streaming**: The HTTP module supports streaming data, which is useful for handling large files or real-time data.\n",
    "\n",
    "### Basic Usage\n",
    "\n",
    "Here's a step-by-step explanation of how to use the HTTP module to create a simple web server:\n",
    "\n",
    "#### Step 1: Import the HTTP Module\n",
    "\n",
    "First, you need to import the HTTP module using the `require` function.\n",
    "\n"
   ]
  },
  {
   "cell_type": "code",
   "execution_count": null,
   "metadata": {
    "vscode": {
     "languageId": "javascript"
    }
   },
   "outputs": [],
   "source": [
    "const http = require('http');"
   ]
  },
  {
   "cell_type": "markdown",
   "metadata": {},
   "source": [
    "\n",
    "\n",
    "#### Step 2: Create a Server\n",
    "\n",
    "Use the `http.createServer` method to create a new HTTP server. This method takes a callback function that will be executed whenever a request is received.\n",
    "\n"
   ]
  },
  {
   "cell_type": "code",
   "execution_count": null,
   "metadata": {
    "vscode": {
     "languageId": "javascript"
    }
   },
   "outputs": [],
   "source": [
    "const server = http.createServer((req, res) => {\n",
    "  // Handle the request and send a response\n",
    "});"
   ]
  },
  {
   "cell_type": "markdown",
   "metadata": {},
   "source": [
    "\n",
    "\n",
    "#### Step 3: Handle Requests and Send Responses\n",
    "\n",
    "Inside the callback function, you can handle the incoming request (`req`) and send a response (`res`). For example, you can send a simple \"Hello, World!\" message.\n",
    "\n"
   ]
  },
  {
   "cell_type": "code",
   "execution_count": null,
   "metadata": {
    "vscode": {
     "languageId": "javascript"
    }
   },
   "outputs": [],
   "source": [
    "const server = http.createServer((req, res) => {\n",
    "  res.statusCode = 200; // Set the status code to 200 (OK)\n",
    "  res.setHeader('Content-Type', 'text/plain'); // Set the content type to plain text\n",
    "  res.end('Hello, World!\\n'); // Send the response\n",
    "});"
   ]
  },
  {
   "cell_type": "markdown",
   "metadata": {},
   "source": [
    "\n",
    "\n",
    "#### Step 4: Listen on a Port\n",
    "\n",
    "Finally, you need to specify the port on which the server should listen for incoming requests.\n",
    "\n"
   ]
  },
  {
   "cell_type": "code",
   "execution_count": null,
   "metadata": {
    "vscode": {
     "languageId": "javascript"
    }
   },
   "outputs": [],
   "source": [
    "const PORT = 3000;\n",
    "server.listen(PORT, () => {\n",
    "  console.log(`Server running at http://localhost:${PORT}/`);\n",
    "});"
   ]
  },
  {
   "cell_type": "markdown",
   "metadata": {},
   "source": [
    "\n",
    "\n",
    "### Complete Example\n",
    "\n",
    "Here's the complete code to create a simple HTTP server that responds with \"Hello, World!\" to any incoming request.\n",
    "\n"
   ]
  },
  {
   "cell_type": "code",
   "execution_count": null,
   "metadata": {
    "vscode": {
     "languageId": "javascript"
    }
   },
   "outputs": [],
   "source": [
    "const http = require('http');\n",
    "\n",
    "// Create an HTTP server\n",
    "const server = http.createServer((req, res) => {\n",
    "  res.statusCode = 200; // Set the status code to 200 (OK)\n",
    "  res.setHeader('Content-Type', 'text/plain'); // Set the content type to plain text\n",
    "  res.end('Hello, World!\\n'); // Send the response\n",
    "});\n",
    "\n",
    "// Specify the port to listen on\n",
    "const PORT = 3000;\n",
    "server.listen(PORT, () => {\n",
    "  console.log(`Server running at http://localhost:${PORT}/`);\n",
    "});"
   ]
  },
  {
   "cell_type": "markdown",
   "metadata": {},
   "source": [
    "\n",
    "\n",
    "### Key Points\n",
    "\n",
    "- **`http.createServer`**: Creates a new HTTP server.\n",
    "- **Request (`req`)**: Represents the incoming request, containing details like the URL, method, headers, etc.\n",
    "- **Response (`res`)**: Represents the outgoing response, allowing you to set the status code, headers, and body.\n",
    "- **`res.end`**: Ends the response and sends it to the client.\n",
    "- **Port**: The server listens on a specified port for incoming requests.\n",
    "\n",
    "The HTTP module is fundamental for building web applications and APIs in Node.js, providing a simple and efficient way to handle HTTP communication."
   ]
  },
  {
   "cell_type": "markdown",
   "metadata": {},
   "source": [
    "## Read the Query String"
   ]
  },
  {
   "cell_type": "markdown",
   "metadata": {},
   "source": [
    "In Node.js, you can read the query string from the URL of an incoming HTTP request using the built-in `url` module. The query string is the part of the URL that contains key-value pairs, typically used to pass parameters to the server.\n",
    "\n",
    "### Steps to Read the Query String\n",
    "\n",
    "1. **Import the `url` Module**: Use the `require` function to import the `url` module.\n",
    "2. **Parse the URL**: Use the `url.parse` method to parse the incoming request URL.\n",
    "3. **Extract the Query String**: Use the `querystring` module to parse the query string into an object.\n",
    "\n",
    "### Example\n",
    "\n",
    "Here's a step-by-step example of how to read and parse the query string from an incoming HTTP request.\n",
    "\n",
    "#### Step 1: Import the Required Modules\n",
    "\n",
    "First, import the `http`, `url`, and `querystring` modules.\n",
    "\n"
   ]
  },
  {
   "cell_type": "code",
   "execution_count": null,
   "metadata": {
    "vscode": {
     "languageId": "javascript"
    }
   },
   "outputs": [],
   "source": [
    "const http = require('http');\n",
    "const url = require('url');\n",
    "const querystring = require('querystring');"
   ]
  },
  {
   "cell_type": "markdown",
   "metadata": {},
   "source": [
    "\n",
    "\n",
    "#### Step 2: Create an HTTP Server\n",
    "\n",
    "Create an HTTP server that listens for incoming requests.\n",
    "\n"
   ]
  },
  {
   "cell_type": "code",
   "execution_count": null,
   "metadata": {
    "vscode": {
     "languageId": "javascript"
    }
   },
   "outputs": [],
   "source": [
    "const server = http.createServer((req, res) => {\n",
    "  // Handle the request and send a response\n",
    "});"
   ]
  },
  {
   "cell_type": "markdown",
   "metadata": {},
   "source": [
    "\n",
    "\n",
    "#### Step 3: Parse the URL and Query String\n",
    "\n",
    "Inside the request handler, parse the URL and extract the query string.\n",
    "\n"
   ]
  },
  {
   "cell_type": "code",
   "execution_count": null,
   "metadata": {
    "vscode": {
     "languageId": "javascript"
    }
   },
   "outputs": [],
   "source": [
    "const server = http.createServer((req, res) => {\n",
    "  // Parse the URL\n",
    "  const parsedUrl = url.parse(req.url);\n",
    "  \n",
    "  // Extract the query string\n",
    "  const query = querystring.parse(parsedUrl.query);\n",
    "  \n",
    "  // Log the query object to the console\n",
    "  console.log(query);\n",
    "  \n",
    "  // Send a response\n",
    "  res.statusCode = 200;\n",
    "  res.setHeader('Content-Type', 'application/json');\n",
    "  res.end(JSON.stringify(query));\n",
    "});"
   ]
  },
  {
   "cell_type": "markdown",
   "metadata": {},
   "source": [
    "\n",
    "\n",
    "#### Step 4: Listen on a Port\n",
    "\n",
    "Specify the port on which the server should listen for incoming requests.\n",
    "\n"
   ]
  },
  {
   "cell_type": "code",
   "execution_count": null,
   "metadata": {
    "vscode": {
     "languageId": "javascript"
    }
   },
   "outputs": [],
   "source": [
    "const PORT = 3000;\n",
    "server.listen(PORT, () => {\n",
    "  console.log(`Server running at http://localhost:${PORT}/`);\n",
    "});"
   ]
  },
  {
   "cell_type": "markdown",
   "metadata": {},
   "source": [
    "\n",
    "\n",
    "### Complete Example\n",
    "\n",
    "Here's the complete code to create an HTTP server that reads and parses the query string from incoming requests.\n",
    "\n"
   ]
  },
  {
   "cell_type": "code",
   "execution_count": null,
   "metadata": {
    "vscode": {
     "languageId": "javascript"
    }
   },
   "outputs": [],
   "source": [
    "const http = require('http');\n",
    "const url = require('url');\n",
    "const querystring = require('querystring');\n",
    "\n",
    "// Create an HTTP server\n",
    "const server = http.createServer((req, res) => {\n",
    "  // Parse the URL\n",
    "  const parsedUrl = url.parse(req.url);\n",
    "  \n",
    "  // Extract the query string\n",
    "  const query = querystring.parse(parsedUrl.query);\n",
    "  \n",
    "  // Log the query object to the console\n",
    "  console.log(query);\n",
    "  \n",
    "  // Send a response\n",
    "  res.statusCode = 200;\n",
    "  res.setHeader('Content-Type', 'application/json');\n",
    "  res.end(JSON.stringify(query));\n",
    "});\n",
    "\n",
    "// Specify the port to listen on\n",
    "const PORT = 3000;\n",
    "server.listen(PORT, () => {\n",
    "  console.log(`Server running at http://localhost:${PORT}/`);\n",
    "});"
   ]
  },
  {
   "cell_type": "markdown",
   "metadata": {},
   "source": [
    "\n",
    "\n",
    "### Key Points\n",
    "\n",
    "- **`url.parse`**: Parses the URL and returns an object containing various components of the URL, including the query string.\n",
    "- **`querystring.parse`**: Parses the query string into an object where each key-value pair in the query string becomes a property of the object.\n",
    "- **Query String**: The part of the URL that comes after the `?` character, used to pass parameters to the server.\n",
    "\n",
    "### Example Usage\n",
    "\n",
    "If you run the server and navigate to `http://localhost:3000/?name=John&age=30`, the server will log the following object to the console and send it as a response:\n",
    "\n"
   ]
  },
  {
   "cell_type": "code",
   "execution_count": null,
   "metadata": {
    "vscode": {
     "languageId": "json"
    }
   },
   "outputs": [],
   "source": [
    "{\n",
    "  \"name\": \"John\",\n",
    "  \"age\": \"30\"\n",
    "}"
   ]
  },
  {
   "cell_type": "markdown",
   "metadata": {},
   "source": [
    "\n",
    "\n",
    "This demonstrates how to read and parse the query string from an incoming HTTP request in Node.js."
   ]
  },
  {
   "cell_type": "markdown",
   "metadata": {},
   "source": [
    "# How can I handle different routes in a Node.js server?"
   ]
  },
  {
   "cell_type": "markdown",
   "metadata": {},
   "source": [
    "To handle different routes in a Node.js server, you can use the built-in `http` module along with conditional statements to define different responses for different routes. Alternatively, you can use a framework like Express.js to simplify routing. Below, I'll show you how to handle routes using both methods.\n",
    "\n",
    "### Using the Built-in `http` Module\n",
    "\n",
    "#### Step-by-Step\n",
    "\n",
    "1. **Import the `http` and `url` Modules**: Use the `require` function to import the necessary modules.\n",
    "2. **Create an HTTP Server**: Use `http.createServer` to create a server.\n",
    "3. **Parse the URL**: Use the `url.parse` method to parse the incoming request URL.\n",
    "4. **Handle Different Routes**: Use conditional statements to handle different routes based on the parsed URL.\n",
    "\n",
    "#### Example\n",
    "\n"
   ]
  },
  {
   "cell_type": "code",
   "execution_count": null,
   "metadata": {
    "vscode": {
     "languageId": "javascript"
    }
   },
   "outputs": [],
   "source": [
    "const http = require('http');\n",
    "const url = require('url');\n",
    "\n",
    "// Create an HTTP server\n",
    "const server = http.createServer((req, res) => {\n",
    "  // Parse the URL\n",
    "  const parsedUrl = url.parse(req.url, true);\n",
    "  const pathname = parsedUrl.pathname;\n",
    "\n",
    "  // Handle different routes\n",
    "  if (pathname === '/') {\n",
    "    res.statusCode = 200;\n",
    "    res.setHeader('Content-Type', 'text/plain');\n",
    "    res.end('Welcome to the Home Page!\\n');\n",
    "  } else if (pathname === '/about') {\n",
    "    res.statusCode = 200;\n",
    "    res.setHeader('Content-Type', 'text/plain');\n",
    "    res.end('Welcome to the About Page!\\n');\n",
    "  } else if (pathname === '/contact') {\n",
    "    res.statusCode = 200;\n",
    "    res.setHeader('Content-Type', 'text/plain');\n",
    "    res.end('Welcome to the Contact Page!\\n');\n",
    "  } else {\n",
    "    res.statusCode = 404;\n",
    "    res.setHeader('Content-Type', 'text/plain');\n",
    "    res.end('Page Not Found\\n');\n",
    "  }\n",
    "});\n",
    "\n",
    "// Specify the port to listen on\n",
    "const PORT = 3000;\n",
    "server.listen(PORT, () => {\n",
    "  console.log(`Server running at http://localhost:${PORT}/`);\n",
    "});"
   ]
  },
  {
   "cell_type": "markdown",
   "metadata": {},
   "source": [
    "\n",
    "\n",
    "### Using Express.js\n",
    "\n",
    "Express.js is a popular web framework for Node.js that simplifies routing and other web server functionalities.\n",
    "\n",
    "#### Step-by-Step\n",
    "\n",
    "1. **Install Express**: Use npm to install Express.\n",
    "2. **Import Express**: Use the `require` function to import Express.\n",
    "3. **Create an Express Application**: Use `express()` to create an app.\n",
    "4. **Define Routes**: Use the app's routing methods to define different routes.\n",
    "5. **Start the Server**: Use `app.listen` to start the server.\n",
    "\n",
    "#### Example\n",
    "\n",
    "First, install Express using npm:\n",
    "\n"
   ]
  },
  {
   "cell_type": "code",
   "execution_count": null,
   "metadata": {
    "vscode": {
     "languageId": "sh"
    }
   },
   "outputs": [],
   "source": [
    "npm install express"
   ]
  },
  {
   "cell_type": "markdown",
   "metadata": {},
   "source": [
    "\n",
    "\n",
    "Then, create a server with different routes:\n",
    "\n"
   ]
  },
  {
   "cell_type": "code",
   "execution_count": null,
   "metadata": {
    "vscode": {
     "languageId": "javascript"
    }
   },
   "outputs": [],
   "source": [
    "const express = require('express');\n",
    "const app = express();\n",
    "const PORT = 3000;\n",
    "\n",
    "// Define routes\n",
    "app.get('/', (req, res) => {\n",
    "  res.send('Welcome to the Home Page!');\n",
    "});\n",
    "\n",
    "app.get('/about', (req, res) => {\n",
    "  res.send('Welcome to the About Page!');\n",
    "});\n",
    "\n",
    "app.get('/contact', (req, res) => {\n",
    "  res.send('Welcome to the Contact Page!');\n",
    "});\n",
    "\n",
    "// Handle 404 - Page Not Found\n",
    "app.use((req, res) => {\n",
    "  res.status(404).send('Page Not Found');\n",
    "});\n",
    "\n",
    "// Start the server\n",
    "app.listen(PORT, () => {\n",
    "  console.log(`Server running at http://localhost:${PORT}/`);\n",
    "});"
   ]
  },
  {
   "cell_type": "markdown",
   "metadata": {},
   "source": [
    "\n",
    "\n",
    "### Key Points\n",
    "\n",
    "- **Built-in `http` Module**: Use conditional statements to handle different routes.\n",
    "- **Express.js**: Simplifies routing with methods like `app.get`, `app.post`, etc.\n",
    "- **404 Handling**: Always include a fallback route to handle 404 errors.\n",
    "\n",
    "Using Express.js is generally more convenient and scalable for larger applications, while the built-in `http` module is suitable for simpler use cases or learning purposes."
   ]
  },
  {
   "cell_type": "markdown",
   "metadata": {},
   "source": [
    "# How can I handle POST requests in a Node.js server?"
   ]
  },
  {
   "cell_type": "markdown",
   "metadata": {},
   "source": [
    "To handle POST requests in a Node.js server, you can use the built-in `http` module to create a server and then parse the incoming data. Alternatively, you can use a framework like Express.js to simplify handling POST requests.\n",
    "\n",
    "### Using the Built-in `http` Module\n",
    "\n",
    "#### Step-by-Step\n",
    "\n",
    "1. **Import the `http` Module**: Use the `require` function to import the `http` module.\n",
    "2. **Create an HTTP Server**: Use `http.createServer` to create a server.\n",
    "3. **Check the Request Method**: Inside the request handler, check if the request method is `POST`.\n",
    "4. **Collect Data**: Use event listeners to collect the data chunks.\n",
    "5. **Parse and Respond**: Parse the collected data and send a response.\n",
    "\n",
    "#### Example\n",
    "\n"
   ]
  },
  {
   "cell_type": "code",
   "execution_count": null,
   "metadata": {
    "vscode": {
     "languageId": "javascript"
    }
   },
   "outputs": [],
   "source": [
    "const http = require('http');\n",
    "\n",
    "// Create an HTTP server\n",
    "const server = http.createServer((req, res) => {\n",
    "  if (req.method === 'POST') {\n",
    "    let body = '';\n",
    "\n",
    "    // Collect data chunks\n",
    "    req.on('data', chunk => {\n",
    "      body += chunk.toString();\n",
    "    });\n",
    "\n",
    "    // End of data\n",
    "    req.on('end', () => {\n",
    "      // Parse the data (assuming it's JSON)\n",
    "      const parsedData = JSON.parse(body);\n",
    "\n",
    "      // Log the parsed data\n",
    "      console.log(parsedData);\n",
    "\n",
    "      // Send a response\n",
    "      res.statusCode = 200;\n",
    "      res.setHeader('Content-Type', 'application/json');\n",
    "      res.end(JSON.stringify({ message: 'Data received', data: parsedData }));\n",
    "    });\n",
    "  } else {\n",
    "    res.statusCode = 404;\n",
    "    res.setHeader('Content-Type', 'text/plain');\n",
    "    res.end('Not Found');\n",
    "  }\n",
    "});\n",
    "\n",
    "// Specify the port to listen on\n",
    "const PORT = 3000;\n",
    "server.listen(PORT, () => {\n",
    "  console.log(`Server running at http://localhost:${PORT}/`);\n",
    "});"
   ]
  },
  {
   "cell_type": "markdown",
   "metadata": {},
   "source": [
    "\n",
    "\n",
    "### Using Express.js\n",
    "\n",
    "Express.js simplifies handling POST requests with built-in middleware for parsing request bodies.\n",
    "\n",
    "#### Step-by-Step\n",
    "\n",
    "1. **Install Express**: Use npm to install Express.\n",
    "2. **Import Express**: Use the `require` function to import Express.\n",
    "3. **Create an Express Application**: Use `express()` to create an app.\n",
    "4. **Use Middleware**: Use `express.json()` to parse JSON request bodies.\n",
    "5. **Define POST Route**: Use `app.post` to define a route for handling POST requests.\n",
    "6. **Start the Server**: Use `app.listen` to start the server.\n",
    "\n",
    "#### Example\n",
    "\n",
    "First, install Express using npm:\n",
    "\n"
   ]
  },
  {
   "cell_type": "code",
   "execution_count": null,
   "metadata": {
    "vscode": {
     "languageId": "sh"
    }
   },
   "outputs": [],
   "source": [
    "npm install express"
   ]
  },
  {
   "cell_type": "markdown",
   "metadata": {},
   "source": [
    "\n",
    "\n",
    "Then, create a server to handle POST requests:\n",
    "\n"
   ]
  },
  {
   "cell_type": "code",
   "execution_count": null,
   "metadata": {
    "vscode": {
     "languageId": "javascript"
    }
   },
   "outputs": [],
   "source": [
    "const express = require('express');\n",
    "const app = express();\n",
    "const PORT = 3000;\n",
    "\n",
    "// Middleware to parse JSON bodies\n",
    "app.use(express.json());\n",
    "\n",
    "// Define a POST route\n",
    "app.post('/data', (req, res) => {\n",
    "  const data = req.body;\n",
    "\n",
    "  // Log the received data\n",
    "  console.log(data);\n",
    "\n",
    "  // Send a response\n",
    "  res.status(200).json({ message: 'Data received', data: data });\n",
    "});\n",
    "\n",
    "// Start the server\n",
    "app.listen(PORT, () => {\n",
    "  console.log(`Server running at http://localhost:${PORT}/`);\n",
    "});"
   ]
  },
  {
   "cell_type": "markdown",
   "metadata": {},
   "source": [
    "\n",
    "\n",
    "### Key Points\n",
    "\n",
    "- **Built-in `http` Module**: Manually collect and parse data chunks from the request.\n",
    "- **Express.js**: Use middleware like `express.json()` to automatically parse JSON request bodies.\n",
    "- **Request Method**: Check the request method to handle different types of requests (e.g., GET, POST).\n",
    "\n",
    "Using Express.js is generally more convenient and reduces boilerplate code, making it easier to handle POST requests and other HTTP methods."
   ]
  },
  {
   "cell_type": "markdown",
   "metadata": {},
   "source": [
    "# **Thank You!**"
   ]
  }
 ],
 "metadata": {
  "language_info": {
   "name": "python"
  }
 },
 "nbformat": 4,
 "nbformat_minor": 2
}
