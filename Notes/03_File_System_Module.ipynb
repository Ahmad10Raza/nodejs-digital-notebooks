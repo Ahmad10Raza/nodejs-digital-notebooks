{
 "cells": [
  {
   "cell_type": "markdown",
   "metadata": {},
   "source": [
    "# Node.js as a File Server?"
   ]
  },
  {
   "cell_type": "markdown",
   "metadata": {},
   "source": [
    "Node.js can be used to create a file server that serves static files such as HTML, CSS, JavaScript, images, and other assets. This is useful for serving web pages and other resources over HTTP. Below, I'll explain how to set up a basic file server using Node.js.\n",
    "\n",
    "### Steps to Create a File Server\n",
    "\n",
    "1. **Import Required Modules**: Use the `require` function to import the necessary modules (`http`, `fs`, and `path`).\n",
    "2. **Create an HTTP Server**: Use `http.createServer` to create a server.\n",
    "3. **Parse the Request URL**: Use the `url` module to parse the incoming request URL.\n",
    "4. **Determine the File Path**: Use the `path` module to construct the file path based on the request URL.\n",
    "5. **Read and Serve the File**: Use the `fs` module to read the file from the file system and serve it to the client.\n",
    "6. **Handle Errors**: Handle errors such as file not found or server errors.\n",
    "\n",
    "### Example\n",
    "\n",
    "Here's a step-by-step example of how to create a basic file server in Node.js.\n",
    "\n",
    "#### Step 1: Import Required Modules\n",
    "\n"
   ]
  },
  {
   "cell_type": "code",
   "execution_count": null,
   "metadata": {
    "vscode": {
     "languageId": "javascript"
    }
   },
   "outputs": [],
   "source": [
    "const http = require('http');\n",
    "const fs = require('fs');\n",
    "const path = require('path');\n",
    "const url = require('url');"
   ]
  },
  {
   "cell_type": "markdown",
   "metadata": {},
   "source": [
    "\n",
    "\n",
    "#### Step 2: Create an HTTP Server\n",
    "\n"
   ]
  },
  {
   "cell_type": "code",
   "execution_count": null,
   "metadata": {
    "vscode": {
     "languageId": "javascript"
    }
   },
   "outputs": [],
   "source": [
    "const server = http.createServer((req, res) => {\n",
    "  // Handle the request and send a response\n",
    "});"
   ]
  },
  {
   "cell_type": "markdown",
   "metadata": {},
   "source": [
    "\n",
    "\n",
    "#### Step 3: Parse the Request URL\n",
    "\n"
   ]
  },
  {
   "cell_type": "code",
   "execution_count": null,
   "metadata": {
    "vscode": {
     "languageId": "javascript"
    }
   },
   "outputs": [],
   "source": [
    "const server = http.createServer((req, res) => {\n",
    "  const parsedUrl = url.parse(req.url);\n",
    "  let pathname = `.${parsedUrl.pathname}`;\n",
    "  \n",
    "  // Default to index.html if no file is specified\n",
    "  if (pathname === './') {\n",
    "    pathname = './index.html';\n",
    "  }\n",
    "});"
   ]
  },
  {
   "cell_type": "markdown",
   "metadata": {},
   "source": [
    "\n",
    "\n",
    "#### Step 4: Determine the File Path\n",
    "\n"
   ]
  },
  {
   "cell_type": "code",
   "execution_count": null,
   "metadata": {
    "vscode": {
     "languageId": "javascript"
    }
   },
   "outputs": [],
   "source": [
    "const server = http.createServer((req, res) => {\n",
    "  const parsedUrl = url.parse(req.url);\n",
    "  let pathname = `.${parsedUrl.pathname}`;\n",
    "  \n",
    "  if (pathname === './') {\n",
    "    pathname = './index.html';\n",
    "  }\n",
    "\n",
    "  // Get the file extension\n",
    "  const ext = path.parse(pathname).ext;\n",
    "  \n",
    "  // Map file extension to MIME type\n",
    "  const mimeType = {\n",
    "    '.html': 'text/html',\n",
    "    '.css': 'text/css',\n",
    "    '.js': 'application/javascript',\n",
    "    '.json': 'application/json',\n",
    "    '.png': 'image/png',\n",
    "    '.jpg': 'image/jpeg',\n",
    "    '.gif': 'image/gif',\n",
    "    '.svg': 'image/svg+xml',\n",
    "    '.wav': 'audio/wav',\n",
    "    '.mp4': 'video/mp4',\n",
    "    '.woff': 'application/font-woff',\n",
    "    '.ttf': 'application/font-ttf',\n",
    "    '.eot': 'application/vnd.ms-fontobject',\n",
    "    '.otf': 'application/font-otf',\n",
    "    '.wasm': 'application/wasm'\n",
    "  };\n",
    "});"
   ]
  },
  {
   "cell_type": "markdown",
   "metadata": {},
   "source": [
    "\n",
    "\n",
    "#### Step 5: Read and Serve the File\n",
    "\n"
   ]
  },
  {
   "cell_type": "code",
   "execution_count": null,
   "metadata": {
    "vscode": {
     "languageId": "javascript"
    }
   },
   "outputs": [],
   "source": [
    "const server = http.createServer((req, res) => {\n",
    "  const parsedUrl = url.parse(req.url);\n",
    "  let pathname = `.${parsedUrl.pathname}`;\n",
    "  \n",
    "  if (pathname === './') {\n",
    "    pathname = './index.html';\n",
    "  }\n",
    "\n",
    "  const ext = path.parse(pathname).ext;\n",
    "  const mimeType = {\n",
    "    '.html': 'text/html',\n",
    "    '.css': 'text/css',\n",
    "    '.js': 'application/javascript',\n",
    "    '.json': 'application/json',\n",
    "    '.png': 'image/png',\n",
    "    '.jpg': 'image/jpeg',\n",
    "    '.gif': 'image/gif',\n",
    "    '.svg': 'image/svg+xml',\n",
    "    '.wav': 'audio/wav',\n",
    "    '.mp4': 'video/mp4',\n",
    "    '.woff': 'application/font-woff',\n",
    "    '.ttf': 'application/font-ttf',\n",
    "    '.eot': 'application/vnd.ms-fontobject',\n",
    "    '.otf': 'application/font-otf',\n",
    "    '.wasm': 'application/wasm'\n",
    "  };\n",
    "\n",
    "  fs.readFile(pathname, (err, data) => {\n",
    "    if (err) {\n",
    "      if (err.code === 'ENOENT') {\n",
    "        // File not found\n",
    "        res.statusCode = 404;\n",
    "        res.setHeader('Content-Type', 'text/plain');\n",
    "        res.end('404 Not Found');\n",
    "      } else {\n",
    "        // Other server error\n",
    "        res.statusCode = 500;\n",
    "        res.setHeader('Content-Type', 'text/plain');\n",
    "        res.end('500 Internal Server Error');\n",
    "      }\n",
    "    } else {\n",
    "      // Serve the file\n",
    "      res.statusCode = 200;\n",
    "      res.setHeader('Content-Type', mimeType[ext] || 'application/octet-stream');\n",
    "      res.end(data);\n",
    "    }\n",
    "  });\n",
    "});"
   ]
  },
  {
   "cell_type": "markdown",
   "metadata": {},
   "source": [
    "\n",
    "\n",
    "#### Step 6: Listen on a Port\n",
    "\n"
   ]
  },
  {
   "cell_type": "code",
   "execution_count": null,
   "metadata": {
    "vscode": {
     "languageId": "javascript"
    }
   },
   "outputs": [],
   "source": [
    "const PORT = 3000;\n",
    "server.listen(PORT, () => {\n",
    "  console.log(`Server running at http://localhost:${PORT}/`);\n",
    "});"
   ]
  },
  {
   "cell_type": "markdown",
   "metadata": {},
   "source": [
    "\n",
    "\n",
    "### Complete Example\n",
    "\n",
    "Here's the complete code to create a basic file server in Node.js:\n",
    "\n"
   ]
  },
  {
   "cell_type": "code",
   "execution_count": null,
   "metadata": {
    "vscode": {
     "languageId": "javascript"
    }
   },
   "outputs": [],
   "source": [
    "const http = require('http');\n",
    "const fs = require('fs');\n",
    "const path = require('path');\n",
    "const url = require('url');\n",
    "\n",
    "// Create an HTTP server\n",
    "const server = http.createServer((req, res) => {\n",
    "  const parsedUrl = url.parse(req.url);\n",
    "  let pathname = `.${parsedUrl.pathname}`;\n",
    "  \n",
    "  if (pathname === './') {\n",
    "    pathname = './index.html';\n",
    "  }\n",
    "\n",
    "  const ext = path.parse(pathname).ext;\n",
    "  const mimeType = {\n",
    "    '.html': 'text/html',\n",
    "    '.css': 'text/css',\n",
    "    '.js': 'application/javascript',\n",
    "    '.json': 'application/json',\n",
    "    '.png': 'image/png',\n",
    "    '.jpg': 'image/jpeg',\n",
    "    '.gif': 'image/gif',\n",
    "    '.svg': 'image/svg+xml',\n",
    "    '.wav': 'audio/wav',\n",
    "    '.mp4': 'video/mp4',\n",
    "    '.woff': 'application/font-woff',\n",
    "    '.ttf': 'application/font-ttf',\n",
    "    '.eot': 'application/vnd.ms-fontobject',\n",
    "    '.otf': 'application/font-otf',\n",
    "    '.wasm': 'application/wasm'\n",
    "  };\n",
    "\n",
    "  fs.readFile(pathname, (err, data) => {\n",
    "    if (err) {\n",
    "      if (err.code === 'ENOENT') {\n",
    "        res.statusCode = 404;\n",
    "        res.setHeader('Content-Type', 'text/plain');\n",
    "        res.end('404 Not Found');\n",
    "      } else {\n",
    "        res.statusCode = 500;\n",
    "        res.setHeader('Content-Type', 'text/plain');\n",
    "        res.end('500 Internal Server Error');\n",
    "      }\n",
    "    } else {\n",
    "      res.statusCode = 200;\n",
    "      res.setHeader('Content-Type', mimeType[ext] || 'application/octet-stream');\n",
    "      res.end(data);\n",
    "    }\n",
    "  });\n",
    "});\n",
    "\n",
    "// Specify the port to listen on\n",
    "const PORT = 3000;\n",
    "server.listen(PORT, () => {\n",
    "  console.log(`Server running at http://localhost:${PORT}/`);\n",
    "});"
   ]
  },
  {
   "cell_type": "markdown",
   "metadata": {},
   "source": [
    "\n",
    "\n",
    "### Key Points\n",
    "\n",
    "- **Modules**: Use `http` for creating the server, `fs` for file system operations, `path` for handling file paths, and `url` for parsing URLs.\n",
    "- **MIME Types**: Map file extensions to MIME types to correctly serve different types of files.\n",
    "- **Error Handling**: Handle errors such as file not found (404) and server errors (500).\n",
    "- **Default File**: Serve a default file (e.g., `index.html`) if no specific file is requested.\n",
    "\n",
    "This example demonstrates how to create a simple file server in Node.js that can serve static files to clients."
   ]
  },
  {
   "cell_type": "markdown",
   "metadata": {},
   "source": [
    "# Read Files?"
   ]
  },
  {
   "cell_type": "markdown",
   "metadata": {},
   "source": [
    "To read files in Node.js, you can use the `fs` (file system) module, which provides various methods for interacting with the file system. Below are some common ways to read files using the `fs` module.\n",
    "\n",
    "### Synchronous File Reading\n",
    "\n",
    "The synchronous method reads the file and blocks the execution until the file is completely read. This is useful for small files or when you need to ensure the file is read before proceeding.\n",
    "\n",
    "#### Example\n",
    "\n"
   ]
  },
  {
   "cell_type": "code",
   "execution_count": null,
   "metadata": {
    "vscode": {
     "languageId": "javascript"
    }
   },
   "outputs": [],
   "source": [
    "const fs = require('fs');\n",
    "\n",
    "try {\n",
    "  const data = fs.readFileSync('path/to/file.txt', 'utf8');\n",
    "  console.log(data);\n",
    "} catch (err) {\n",
    "  console.error(err);\n",
    "}"
   ]
  },
  {
   "cell_type": "markdown",
   "metadata": {},
   "source": [
    "\n",
    "\n",
    "### Asynchronous File Reading\n",
    "\n",
    "The asynchronous method reads the file without blocking the execution. This is more suitable for larger files or when you want to perform other tasks while the file is being read.\n",
    "\n",
    "#### Example\n",
    "\n"
   ]
  },
  {
   "cell_type": "code",
   "execution_count": null,
   "metadata": {
    "vscode": {
     "languageId": "javascript"
    }
   },
   "outputs": [],
   "source": [
    "const fs = require('fs');\n",
    "\n",
    "fs.readFile('path/to/file.txt', 'utf8', (err, data) => {\n",
    "  if (err) {\n",
    "    console.error(err);\n",
    "    return;\n",
    "  }\n",
    "  console.log(data);\n",
    "});"
   ]
  },
  {
   "cell_type": "markdown",
   "metadata": {},
   "source": [
    "\n",
    "\n",
    "### Using Promises\n",
    "\n",
    "You can also use the `fs.promises` API, which provides promise-based methods for file operations. This is useful for working with `async`/`await`.\n",
    "\n",
    "#### Example\n",
    "\n"
   ]
  },
  {
   "cell_type": "code",
   "execution_count": null,
   "metadata": {
    "vscode": {
     "languageId": "javascript"
    }
   },
   "outputs": [],
   "source": [
    "const fs = require('fs').promises;\n",
    "\n",
    "async function readFile() {\n",
    "  try {\n",
    "    const data = await fs.readFile('path/to/file.txt', 'utf8');\n",
    "    console.log(data);\n",
    "  } catch (err) {\n",
    "    console.error(err);\n",
    "  }\n",
    "}\n",
    "\n",
    "readFile();"
   ]
  },
  {
   "cell_type": "markdown",
   "metadata": {},
   "source": [
    "\n",
    "\n",
    "### Key Points\n",
    "\n",
    "- **Synchronous Reading**: Use `fs.readFileSync` for blocking file reads.\n",
    "- **Asynchronous Reading**: Use `fs.readFile` for non-blocking file reads.\n",
    "- **Promises**: Use `fs.promises.readFile` for promise-based file reads, suitable for `async`/`await`.\n",
    "\n",
    "### Complete Example\n",
    "\n",
    "Here's a complete example demonstrating all three methods:\n",
    "\n"
   ]
  },
  {
   "cell_type": "code",
   "execution_count": null,
   "metadata": {
    "vscode": {
     "languageId": "javascript"
    }
   },
   "outputs": [],
   "source": [
    "const fs = require('fs');\n",
    "\n",
    "// Synchronous Reading\n",
    "try {\n",
    "  const dataSync = fs.readFileSync('path/to/file.txt', 'utf8');\n",
    "  console.log('Synchronous Read:', dataSync);\n",
    "} catch (err) {\n",
    "  console.error('Synchronous Error:', err);\n",
    "}\n",
    "\n",
    "// Asynchronous Reading\n",
    "fs.readFile('path/to/file.txt', 'utf8', (err, data) => {\n",
    "  if (err) {\n",
    "    console.error('Asynchronous Error:', err);\n",
    "    return;\n",
    "  }\n",
    "  console.log('Asynchronous Read:', data);\n",
    "});\n",
    "\n",
    "// Promises Reading\n",
    "const fsPromises = require\n",
    "\n",
    "('\n",
    "\n",
    "fs').promises;\n",
    "\n",
    "async function readFile() {\n",
    "  try {\n",
    "    const data = await fsPromises.readFile('path/to/file.txt', 'utf8');\n",
    "    console.log('Promises Read:', data);\n",
    "  } catch (err) {\n",
    "    console.error('Promises Error:', err);\n",
    "  }\n",
    "}\n",
    "\n",
    "readFile();"
   ]
  },
  {
   "cell_type": "markdown",
   "metadata": {},
   "source": [
    "\n",
    "\n",
    "This example demonstrates how to read files in Node.js using synchronous, asynchronous, and promise-based methods. Choose the method that best fits your use case and performance requirements."
   ]
  },
  {
   "cell_type": "markdown",
   "metadata": {},
   "source": [
    "# Create Files?"
   ]
  },
  {
   "cell_type": "markdown",
   "metadata": {},
   "source": [
    "To create files in Node.js, you can use the [`fs`](command:_github.copilot.openSymbolFromReferences?%5B%7B%22%24mid%22%3A1%2C%22path%22%3A%22%2FC%3A%2FUsers%2Fmrhac%2FAppData%2FLocal%2FMicrosoft%2FTypeScript%2F5.5%2Fnode_modules%2F%40types%2Fnode%2Ffs.d.ts%22%2C%22scheme%22%3A%22file%22%7D%2C%7B%22line%22%3A20%2C%22character%22%3A0%7D%5D \"C:/Users/mrhac/AppData/Local/Microsoft/TypeScript/5.5/node_modules/@types/node/fs.d.ts\") (file system) module, which provides various methods for file operations. Below are some common ways to create files using the [`fs`](command:_github.copilot.openSymbolFromReferences?%5B%7B%22%24mid%22%3A1%2C%22path%22%3A%22%2FC%3A%2FUsers%2Fmrhac%2FAppData%2FLocal%2FMicrosoft%2FTypeScript%2F5.5%2Fnode_modules%2F%40types%2Fnode%2Ffs.d.ts%22%2C%22scheme%22%3A%22file%22%7D%2C%7B%22line%22%3A20%2C%22character%22%3A0%7D%5D \"C:/Users/mrhac/AppData/Local/Microsoft/TypeScript/5.5/node_modules/@types/node/fs.d.ts\") module.\n",
    "\n",
    "### Synchronous File Creation\n",
    "\n",
    "The synchronous method creates a file and blocks the execution until the file is completely created. This is useful for small files or when you need to ensure the file is created before proceeding.\n",
    "\n",
    "#### Example\n",
    "\n"
   ]
  },
  {
   "cell_type": "code",
   "execution_count": null,
   "metadata": {
    "vscode": {
     "languageId": "javascript"
    }
   },
   "outputs": [],
   "source": [
    "const fs = require('fs');\n",
    "\n",
    "try {\n",
    "  fs.writeFileSync('path/to/file.txt', 'Hello, world!', 'utf8');\n",
    "  console.log('File created successfully');\n",
    "} catch (err) {\n",
    "  console.error('Error creating file:', err);\n",
    "}"
   ]
  },
  {
   "cell_type": "markdown",
   "metadata": {},
   "source": [
    "\n",
    "\n",
    "### Asynchronous File Creation\n",
    "\n",
    "The asynchronous method creates a file without blocking the execution. This is more suitable for larger files or when you want to perform other tasks while the file is being created.\n",
    "\n",
    "#### Example\n",
    "\n"
   ]
  },
  {
   "cell_type": "code",
   "execution_count": null,
   "metadata": {
    "vscode": {
     "languageId": "javascript"
    }
   },
   "outputs": [],
   "source": [
    "const fs = require('fs');\n",
    "\n",
    "fs.writeFile('path/to/file.txt', 'Hello, world!', 'utf8', (err) => {\n",
    "  if (err) {\n",
    "    console.error('Error creating file:', err);\n",
    "    return;\n",
    "  }\n",
    "  console.log('File created successfully');\n",
    "});"
   ]
  },
  {
   "cell_type": "markdown",
   "metadata": {},
   "source": [
    "\n",
    "\n",
    "### Using Promises\n",
    "\n",
    "You can also use the [`fs.promises`](command:_github.copilot.openSymbolFromReferences?%5B%7B%22%24mid%22%3A1%2C%22path%22%3A%22%2FC%3A%2FUsers%2Fmrhac%2FAppData%2FLocal%2FMicrosoft%2FTypeScript%2F5.5%2Fnode_modules%2F%40types%2Fnode%2Ffs.d.ts%22%2C%22scheme%22%3A%22file%22%7D%2C%7B%22line%22%3A20%2C%22character%22%3A0%7D%5D \"C:/Users/mrhac/AppData/Local/Microsoft/TypeScript/5.5/node_modules/@types/node/fs.d.ts\") API, which provides promise-based methods for file operations. This is useful for working with `async`/[`await`](command:_github.copilot.openSymbolFromReferences?%5B%7B%22%24mid%22%3A1%2C%22fsPath%22%3A%22d%3A%5C%5CDATA%20SCIENCE%5C%5CGithub%5C%5Cnodejs-digital-notebooks%5C%5CNotes%5C%5C03_File_System_Module.ipynb%22%2C%22_sep%22%3A1%2C%22external%22%3A%22vscode-notebook-cell%3A%2Fd%253A%2FDATA%2520SCIENCE%2FGithub%2Fnodejs-digital-notebooks%2FNotes%2F03_File_System_Module.ipynb%23X34sZmlsZQ%253D%253D%22%2C%22path%22%3A%22%2Fd%3A%2FDATA%20SCIENCE%2FGithub%2Fnodejs-digital-notebooks%2FNotes%2F03_File_System_Module.ipynb%22%2C%22scheme%22%3A%22vscode-notebook-cell%22%2C%22fragment%22%3A%22X34sZmlsZQ%3D%3D%22%7D%2C%7B%22line%22%3A26%2C%22character%22%3A0%7D%5D \"d:\\DATA SCIENCE\\Github\\nodejs-digital-notebooks\\Notes\\03_File_System_Module.ipynb\").\n",
    "\n",
    "#### Example\n",
    "\n"
   ]
  },
  {
   "cell_type": "code",
   "execution_count": null,
   "metadata": {
    "vscode": {
     "languageId": "javascript"
    }
   },
   "outputs": [],
   "source": [
    "const fs = require('fs').promises;\n",
    "\n",
    "async function createFile() {\n",
    "  try {\n",
    "    await fs.writeFile('path/to/file.txt', 'Hello, world!', 'utf8');\n",
    "    console.log('File created successfully');\n",
    "  } catch (err) {\n",
    "    console.error('Error creating file:', err);\n",
    "  }\n",
    "}\n",
    "\n",
    "createFile();"
   ]
  },
  {
   "cell_type": "markdown",
   "metadata": {},
   "source": [
    "\n",
    "\n",
    "### Key Points\n",
    "\n",
    "- **Synchronous Creation**: Use `fs.writeFileSync` for blocking file creation.\n",
    "- **Asynchronous Creation**: Use `fs.writeFile` for non-blocking file creation.\n",
    "- **Promises**: Use `fs.promises.writeFile` for promise-based file creation, suitable for `async`/`await`.\n",
    "\n",
    "### Complete Example\n",
    "\n",
    "Here's a complete example demonstrating all three methods:\n",
    "\n"
   ]
  },
  {
   "cell_type": "code",
   "execution_count": null,
   "metadata": {
    "vscode": {
     "languageId": "javascript"
    }
   },
   "outputs": [],
   "source": [
    "const fs = require('fs');\n",
    "\n",
    "// Synchronous Creation\n",
    "try {\n",
    "  fs.writeFileSync('path/to/file.txt', 'Hello, world!', 'utf8');\n",
    "  console.log('Synchronous File created successfully');\n",
    "} catch (err) {\n",
    "  console.error('Synchronous Error creating file:', err);\n",
    "}\n",
    "\n",
    "// Asynchronous Creation\n",
    "fs.writeFile('path/to/file.txt', 'Hello, world!', 'utf8', (err) => {\n",
    "  if (err) {\n",
    "    console.error('Asynchronous Error creating file:', err);\n",
    "    return;\n",
    "  }\n",
    "  console.log('Asynchronous File created successfully');\n",
    "});\n",
    "\n",
    "// Promises Creation\n",
    "const fsPromises = require('fs').promises;\n",
    "\n",
    "async function createFile() {\n",
    "  try {\n",
    "    await fsPromises.writeFile('path/to/file.txt', 'Hello, world!', 'utf8');\n",
    "    console.log('Promises File created successfully');\n",
    "  } catch (err) {\n",
    "    console.error('Promises Error creating file:', err);\n",
    "  }\n",
    "}\n",
    "\n",
    "createFile();"
   ]
  },
  {
   "cell_type": "markdown",
   "metadata": {},
   "source": [
    "\n",
    "\n",
    "This example demonstrates how to create files in Node.js using synchronous, asynchronous, and promise-based methods. Choose the method that best fits your use case and performance requirements."
   ]
  },
  {
   "cell_type": "markdown",
   "metadata": {},
   "source": [
    "# Update Files?"
   ]
  },
  {
   "cell_type": "markdown",
   "metadata": {},
   "source": [
    "To update files in Node.js, you can use the [`fs`](command:_github.copilot.openSymbolFromReferences?%5B%7B%22%24mid%22%3A1%2C%22path%22%3A%22%2FC%3A%2FUsers%2Fmrhac%2FAppData%2FLocal%2FMicrosoft%2FTypeScript%2F5.5%2Fnode_modules%2F%40types%2Fnode%2Ffs.d.ts%22%2C%22scheme%22%3A%22file%22%7D%2C%7B%22line%22%3A20%2C%22character%22%3A0%7D%5D \"C:/Users/mrhac/AppData/Local/Microsoft/TypeScript/5.5/node_modules/@types/node/fs.d.ts\") (file system) module, which provides various methods for file operations. Below are some common ways to update files using the [`fs`](command:_github.copilot.openSymbolFromReferences?%5B%7B%22%24mid%22%3A1%2C%22path%22%3A%22%2FC%3A%2FUsers%2Fmrhac%2FAppData%2FLocal%2FMicrosoft%2FTypeScript%2F5.5%2Fnode_modules%2F%40types%2Fnode%2Ffs.d.ts%22%2C%22scheme%22%3A%22file%22%7D%2C%7B%22line%22%3A20%2C%22character%22%3A0%7D%5D \"C:/Users/mrhac/AppData/Local/Microsoft/TypeScript/5.5/node_modules/@types/node/fs.d.ts\") module.\n",
    "\n",
    "### Synchronous File Update\n",
    "\n",
    "The synchronous method updates the file and blocks the execution until the file is completely updated. This is useful for small files or when you need to ensure the file is updated before proceeding.\n",
    "\n",
    "#### Example\n",
    "\n"
   ]
  },
  {
   "cell_type": "code",
   "execution_count": null,
   "metadata": {
    "vscode": {
     "languageId": "javascript"
    }
   },
   "outputs": [],
   "source": [
    "const fs = require('fs');\n",
    "\n",
    "try {\n",
    "  fs.appendFileSync('path/to/file.txt', '\\nUpdated content', 'utf8');\n",
    "  console.log('Synchronous File updated successfully');\n",
    "} catch (err) {\n",
    "  console.error('Synchronous Error updating file:', err);\n",
    "}"
   ]
  },
  {
   "cell_type": "markdown",
   "metadata": {},
   "source": [
    "\n",
    "\n",
    "### Asynchronous File Update\n",
    "\n",
    "The asynchronous method updates the file without blocking the execution. This is more suitable for larger files or when you want to perform other tasks while the file is being updated.\n",
    "\n",
    "#### Example\n",
    "\n"
   ]
  },
  {
   "cell_type": "code",
   "execution_count": null,
   "metadata": {
    "vscode": {
     "languageId": "javascript"
    }
   },
   "outputs": [],
   "source": [
    "const fs = require('fs');\n",
    "\n",
    "fs.appendFile('path/to/file.txt', '\\nUpdated content', 'utf8', (err) => {\n",
    "  if (err) {\n",
    "    console.error('Asynchronous Error updating file:', err);\n",
    "    return;\n",
    "  }\n",
    "  console.log('Asynchronous File updated successfully');\n",
    "});"
   ]
  },
  {
   "cell_type": "markdown",
   "metadata": {},
   "source": [
    "\n",
    "\n",
    "### Using Promises\n",
    "\n",
    "You can also use the [`fs.promises`](command:_github.copilot.openSymbolFromReferences?%5B%7B%22%24mid%22%3A1%2C%22path%22%3A%22%2FC%3A%2FUsers%2Fmrhac%2FAppData%2FLocal%2FMicrosoft%2FTypeScript%2F5.5%2Fnode_modules%2F%40types%2Fnode%2Ffs.d.ts%22%2C%22scheme%22%3A%22file%22%7D%2C%7B%22line%22%3A20%2C%22character%22%3A0%7D%5D \"C:/Users/mrhac/AppData/Local/Microsoft/TypeScript/5.5/node_modules/@types/node/fs.d.ts\") API, which provides promise-based methods for file operations. This is useful for working with `async`/[`await`](command:_github.copilot.openSymbolFromReferences?%5B%7B%22%24mid%22%3A1%2C%22fsPath%22%3A%22d%3A%5C%5CDATA%20SCIENCE%5C%5CGithub%5C%5Cnodejs-digital-notebooks%5C%5CNotes%5C%5C03_File_System_Module.ipynb%22%2C%22_sep%22%3A1%2C%22external%22%3A%22vscode-notebook-cell%3A%2Fd%253A%2FDATA%2520SCIENCE%2FGithub%2Fnodejs-digital-notebooks%2FNotes%2F03_File_System_Module.ipynb%23X50sZmlsZQ%253D%253D%22%2C%22path%22%3A%22%2Fd%3A%2FDATA%20SCIENCE%2FGithub%2Fnodejs-digital-notebooks%2FNotes%2F03_File_System_Module.ipynb%22%2C%22scheme%22%3A%22vscode-notebook-cell%22%2C%22fragment%22%3A%22X50sZmlsZQ%3D%3D%22%7D%2C%7B%22line%22%3A22%2C%22character%22%3A0%7D%5D \"d:\\DATA SCIENCE\\Github\\nodejs-digital-notebooks\\Notes\\03_File_System_Module.ipynb\").\n",
    "\n",
    "#### Example\n",
    "\n"
   ]
  },
  {
   "cell_type": "code",
   "execution_count": null,
   "metadata": {
    "vscode": {
     "languageId": "javascript"
    }
   },
   "outputs": [],
   "source": [
    "const fs = require('fs').promises;\n",
    "\n",
    "async function updateFile() {\n",
    "  try {\n",
    "    await fs.appendFile('path/to/file.txt', '\\nUpdated content', 'utf8');\n",
    "    console.log('Promises File updated successfully');\n",
    "  } catch (err) {\n",
    "    console.error('Promises Error updating file:', err);\n",
    "  }\n",
    "}\n",
    "\n",
    "updateFile();"
   ]
  },
  {
   "cell_type": "markdown",
   "metadata": {},
   "source": [
    "\n",
    "\n",
    "### Key Points\n",
    "\n",
    "- **Synchronous Update**: Use `fs.appendFileSync` for blocking file updates.\n",
    "- **Asynchronous Update**: Use `fs.appendFile` for non-blocking file updates.\n",
    "- **Promises**: Use `fs.promises.appendFile` for promise-based file updates, suitable for `async`/`await`.\n",
    "\n",
    "### Complete Example\n",
    "\n",
    "Here's a complete example demonstrating all three methods:\n",
    "\n"
   ]
  },
  {
   "cell_type": "code",
   "execution_count": null,
   "metadata": {
    "vscode": {
     "languageId": "javascript"
    }
   },
   "outputs": [],
   "source": [
    "const fs = require('fs');\n",
    "\n",
    "// Synchronous Update\n",
    "try {\n",
    "  fs.appendFileSync('path/to/file.txt', '\\nUpdated content', 'utf8');\n",
    "  console.log('Synchronous File updated successfully');\n",
    "} catch (err) {\n",
    "  console.error('Synchronous Error updating file:', err);\n",
    "}\n",
    "\n",
    "// Asynchronous Update\n",
    "fs.appendFile('path/to/file.txt', '\\nUpdated content', 'utf8', (err) => {\n",
    "  if (err) {\n",
    "    console.error('Asynchronous Error updating file:', err);\n",
    "    return;\n",
    "  }\n",
    "  console.log('Asynchronous File updated successfully');\n",
    "});\n",
    "\n",
    "// Promises Update\n",
    "const fsPromises = require('fs').promises;\n",
    "\n",
    "async function updateFile() {\n",
    "  try {\n",
    "    await fsPromises.appendFile('path/to/file.txt', '\\nUpdated content', 'utf8');\n",
    "    console.log('Promises File updated successfully');\n",
    "  } catch (err) {\n",
    "    console.error('Promises Error updating file:', err);\n",
    "  }\n",
    "}\n",
    "\n",
    "updateFile();"
   ]
  },
  {
   "cell_type": "markdown",
   "metadata": {},
   "source": [
    "# Delete Files?"
   ]
  },
  {
   "cell_type": "markdown",
   "metadata": {},
   "source": [
    "To delete files in Node.js, you can use the `fs` (file system) module, which provides various methods for file operations. Below are some common ways to delete files using the `fs` module.\n",
    "\n",
    "### Synchronous File Deletion\n",
    "\n",
    "The synchronous method deletes the file and blocks the execution until the file is completely deleted. This is useful for small files or when you need to ensure the file is deleted before proceeding.\n",
    "\n",
    "#### Example\n",
    "\n"
   ]
  },
  {
   "cell_type": "code",
   "execution_count": null,
   "metadata": {
    "vscode": {
     "languageId": "javascript"
    }
   },
   "outputs": [],
   "source": [
    "const fs = require('fs');\n",
    "\n",
    "try {\n",
    "  fs.unlinkSync('path/to/file.txt');\n",
    "  console.log('Synchronous File deleted successfully');\n",
    "} catch (err) {\n",
    "  console.error('Synchronous Error deleting file:', err);\n",
    "}"
   ]
  },
  {
   "cell_type": "markdown",
   "metadata": {},
   "source": [
    "\n",
    "\n",
    "### Asynchronous File Deletion\n",
    "\n",
    "The asynchronous method deletes the file without blocking the execution. This is more suitable for larger files or when you want to perform other tasks while the file is being deleted.\n",
    "\n",
    "#### Example\n",
    "\n"
   ]
  },
  {
   "cell_type": "code",
   "execution_count": null,
   "metadata": {
    "vscode": {
     "languageId": "javascript"
    }
   },
   "outputs": [],
   "source": [
    "const fs = require('fs');\n",
    "\n",
    "fs.unlink('path/to/file.txt', (err) => {\n",
    "  if (err) {\n",
    "    console.error('Asynchronous Error deleting file:', err);\n",
    "    return;\n",
    "  }\n",
    "  console.log('Asynchronous File deleted successfully');\n",
    "});"
   ]
  },
  {
   "cell_type": "markdown",
   "metadata": {},
   "source": [
    "\n",
    "\n",
    "### Using Promises\n",
    "\n",
    "You can also use the `fs.promises` API, which provides promise-based methods for file operations. This is useful for working with `async`/`await`.\n",
    "\n",
    "#### Example\n",
    "\n"
   ]
  },
  {
   "cell_type": "code",
   "execution_count": null,
   "metadata": {
    "vscode": {
     "languageId": "javascript"
    }
   },
   "outputs": [],
   "source": [
    "const fs = require('fs').promises;\n",
    "\n",
    "async function deleteFile() {\n",
    "  try {\n",
    "    await fs.unlink('path/to/file.txt');\n",
    "    console.log('Promises File deleted successfully');\n",
    "  } catch (err) {\n",
    "    console.error('Promises Error deleting file:', err);\n",
    "  }\n",
    "}\n",
    "\n",
    "deleteFile();"
   ]
  },
  {
   "cell_type": "markdown",
   "metadata": {},
   "source": [
    "\n",
    "\n",
    "### Key Points\n",
    "\n",
    "- **Synchronous Deletion**: Use `fs.unlinkSync` for blocking file deletions.\n",
    "- **Asynchronous Deletion**: Use `fs.unlink` for non-blocking file deletions.\n",
    "- **Promises**: Use `fs.promises.unlink` for promise-based file deletions, suitable for `async`/`await`.\n",
    "\n",
    "### Complete Example\n",
    "\n",
    "Here's a complete example demonstrating all three methods:\n",
    "\n"
   ]
  },
  {
   "cell_type": "code",
   "execution_count": null,
   "metadata": {
    "vscode": {
     "languageId": "javascript"
    }
   },
   "outputs": [],
   "source": [
    "const fs = require('fs');\n",
    "\n",
    "// Synchronous Deletion\n",
    "try {\n",
    "  fs.unlinkSync('path/to/file.txt');\n",
    "  console.log('Synchronous File deleted successfully');\n",
    "} catch (err) {\n",
    "  console.error('Synchronous Error deleting file:', err);\n",
    "}\n",
    "\n",
    "// Asynchronous Deletion\n",
    "fs.unlink('path/to/file.txt', (err) => {\n",
    "  if (err) {\n",
    "    console.error('Asynchronous Error deleting file:', err);\n",
    "    return;\n",
    "  }\n",
    "  console.log('Asynchronous File deleted successfully');\n",
    "});\n",
    "\n",
    "// Promises Deletion\n",
    "const fsPromises = require('fs').promises;\n",
    "\n",
    "async function deleteFile() {\n",
    "  try {\n",
    "    await fsPromises.unlink('path/to/file.txt');\n",
    "    console.log('Promises File deleted successfully');\n",
    "  } catch (err) {\n",
    "    console.error('Promises Error deleting file:', err);\n",
    "  }\n",
    "}\n",
    "\n",
    "deleteFile();"
   ]
  },
  {
   "cell_type": "markdown",
   "metadata": {},
   "source": [
    "\n",
    "\n",
    "This example demonstrates how to delete files in Node.js using synchronous, asynchronous, and promise-based methods. Choose the method that best fits your use case and performance requirements."
   ]
  },
  {
   "cell_type": "markdown",
   "metadata": {},
   "source": [
    "# Rename Files?"
   ]
  },
  {
   "cell_type": "markdown",
   "metadata": {},
   "source": [
    "To rename files in Node.js, you can use the [`fs`](command:_github.copilot.openSymbolFromReferences?%5B%7B%22%24mid%22%3A1%2C%22path%22%3A%22%2FC%3A%2FUsers%2Fmrhac%2FAppData%2FLocal%2FMicrosoft%2FTypeScript%2F5.5%2Fnode_modules%2F%40types%2Fnode%2Ffs.d.ts%22%2C%22scheme%22%3A%22file%22%7D%2C%7B%22line%22%3A20%2C%22character%22%3A0%7D%5D \"C:/Users/mrhac/AppData/Local/Microsoft/TypeScript/5.5/node_modules/@types/node/fs.d.ts\") (file system) module, which provides various methods for file operations. Below are some common ways to rename files using the [`fs`](command:_github.copilot.openSymbolFromReferences?%5B%7B%22%24mid%22%3A1%2C%22path%22%3A%22%2FC%3A%2FUsers%2Fmrhac%2FAppData%2FLocal%2FMicrosoft%2FTypeScript%2F5.5%2Fnode_modules%2F%40types%2Fnode%2Ffs.d.ts%22%2C%22scheme%22%3A%22file%22%7D%2C%7B%22line%22%3A20%2C%22character%22%3A0%7D%5D \"C:/Users/mrhac/AppData/Local/Microsoft/TypeScript/5.5/node_modules/@types/node/fs.d.ts\") module.\n",
    "\n",
    "### Synchronous File Renaming\n",
    "\n",
    "The synchronous method renames the file and blocks the execution until the file is completely renamed. This is useful for small files or when you need to ensure the file is renamed before proceeding.\n",
    "\n",
    "#### Example\n",
    "\n"
   ]
  },
  {
   "cell_type": "code",
   "execution_count": null,
   "metadata": {
    "vscode": {
     "languageId": "javascript"
    }
   },
   "outputs": [],
   "source": [
    "const fs = require('fs');\n",
    "\n",
    "try {\n",
    "  fs.renameSync('path/to/oldFile.txt', 'path/to/newFile.txt');\n",
    "  console.log('Synchronous File renamed successfully');\n",
    "} catch (err) {\n",
    "  console.error('Synchronous Error renaming file:', err);\n",
    "}"
   ]
  },
  {
   "cell_type": "markdown",
   "metadata": {},
   "source": [
    "\n",
    "\n",
    "### Asynchronous File Renaming\n",
    "\n",
    "The asynchronous method renames the file without blocking the execution. This is more suitable for larger files or when you want to perform other tasks while the file is being renamed.\n",
    "\n",
    "#### Example\n",
    "\n"
   ]
  },
  {
   "cell_type": "code",
   "execution_count": null,
   "metadata": {
    "vscode": {
     "languageId": "javascript"
    }
   },
   "outputs": [],
   "source": [
    "const fs = require('fs');\n",
    "\n",
    "fs.rename('path/to/oldFile.txt', 'path/to/newFile.txt', (err) => {\n",
    "  if (err) {\n",
    "    console.error('Asynchronous Error renaming file:', err);\n",
    "    return;\n",
    "  }\n",
    "  console.log('Asynchronous File renamed successfully');\n",
    "});"
   ]
  },
  {
   "cell_type": "markdown",
   "metadata": {},
   "source": [
    "\n",
    "\n",
    "### Using Promises\n",
    "\n",
    "You can also use the [`fs.promises`](command:_github.copilot.openSymbolFromReferences?%5B%7B%22%24mid%22%3A1%2C%22path%22%3A%22%2FC%3A%2FUsers%2Fmrhac%2FAppData%2FLocal%2FMicrosoft%2FTypeScript%2F5.5%2Fnode_modules%2F%40types%2Fnode%2Ffs.d.ts%22%2C%22scheme%22%3A%22file%22%7D%2C%7B%22line%22%3A20%2C%22character%22%3A0%7D%5D \"C:/Users/mrhac/AppData/Local/Microsoft/TypeScript/5.5/node_modules/@types/node/fs.d.ts\") API, which provides promise-based methods for file operations. This is useful for working with `async`/[`await`](command:_github.copilot.openSymbolFromReferences?%5B%7B%22%24mid%22%3A1%2C%22fsPath%22%3A%22d%3A%5C%5CDATA%20SCIENCE%5C%5CGithub%5C%5Cnodejs-digital-notebooks%5C%5CNotes%5C%5C03_File_System_Module.ipynb%22%2C%22_sep%22%3A1%2C%22external%22%3A%22vscode-notebook-cell%3A%2Fd%253A%2FDATA%2520SCIENCE%2FGithub%2Fnodejs-digital-notebooks%2FNotes%2F03_File_System_Module.ipynb%23Y122sZmlsZQ%253D%253D%22%2C%22path%22%3A%22%2Fd%3A%2FDATA%20SCIENCE%2FGithub%2Fnodejs-digital-notebooks%2FNotes%2F03_File_System_Module.ipynb%22%2C%22scheme%22%3A%22vscode-notebook-cell%22%2C%22fragment%22%3A%22Y122sZmlsZQ%3D%3D%22%7D%2C%7B%22line%22%3A22%2C%22character%22%3A0%7D%5D \"d:\\DATA SCIENCE\\Github\\nodejs-digital-notebooks\\Notes\\03_File_System_Module.ipynb\").\n",
    "\n",
    "#### Example\n",
    "\n"
   ]
  },
  {
   "cell_type": "code",
   "execution_count": null,
   "metadata": {
    "vscode": {
     "languageId": "javascript"
    }
   },
   "outputs": [],
   "source": [
    "const fs = require('fs').promises;\n",
    "\n",
    "async function renameFile() {\n",
    "  try {\n",
    "    await fs.rename('path/to/oldFile.txt', 'path/to/newFile.txt');\n",
    "    console.log('Promises File renamed successfully');\n",
    "  } catch (err) {\n",
    "    console.error('Promises Error renaming file:', err);\n",
    "  }\n",
    "}\n",
    "\n",
    "renameFile();"
   ]
  },
  {
   "cell_type": "markdown",
   "metadata": {},
   "source": [
    "\n",
    "\n",
    "### Key Points\n",
    "\n",
    "- **Synchronous Renaming**: Use `fs.renameSync` for blocking file renaming.\n",
    "- **Asynchronous Renaming**: Use `fs.rename` for non-blocking file renaming.\n",
    "- **Promises**: Use `fs.promises.rename` for promise-based file renaming, suitable for `async`/`await`.\n",
    "\n",
    "### Complete Example\n",
    "\n",
    "Here's a complete example demonstrating all three methods:\n",
    "\n"
   ]
  },
  {
   "cell_type": "code",
   "execution_count": null,
   "metadata": {
    "vscode": {
     "languageId": "javascript"
    }
   },
   "outputs": [],
   "source": [
    "const fs = require('fs');\n",
    "\n",
    "// Synchronous Renaming\n",
    "try {\n",
    "  fs.renameSync('path/to/oldFile.txt', 'path/to/newFile.txt');\n",
    "  console.log('Synchronous File renamed successfully');\n",
    "} catch (err) {\n",
    "  console.error('Synchronous Error renaming file:', err);\n",
    "}\n",
    "\n",
    "// Asynchronous Renaming\n",
    "fs.rename('path/to/oldFile.txt', 'path/to/newFile.txt', (err) => {\n",
    "  if (err) {\n",
    "    console.error('Asynchronous Error renaming file:', err);\n",
    "    return;\n",
    "  }\n",
    "  console.log('Asynchronous File renamed successfully');\n",
    "});\n",
    "\n",
    "// Promises Renaming\n",
    "const fsPromises = require('fs').promises;\n",
    "\n",
    "async function renameFile() {\n",
    "  try {\n",
    "    await fsPromises.rename('path/to/oldFile.txt', 'path/to/newFile.txt');\n",
    "    console.log('Promises File renamed successfully');\n",
    "  } catch (err) {\n",
    "    console.error('Promises Error renaming file:', err);\n",
    "  }\n",
    "}\n",
    "\n",
    "renameFile();"
   ]
  },
  {
   "cell_type": "markdown",
   "metadata": {},
   "source": [
    "\n",
    "\n",
    "This example demonstrates how to rename files in Node.js using synchronous, asynchronous, and promise-based methods. Choose the method that best fits your use case and performance requirements."
   ]
  },
  {
   "cell_type": "markdown",
   "metadata": {},
   "source": [
    "# **Thank You!**"
   ]
  }
 ],
 "metadata": {
  "language_info": {
   "name": "python"
  }
 },
 "nbformat": 4,
 "nbformat_minor": 2
}
