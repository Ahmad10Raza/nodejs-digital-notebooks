{
 "cells": [
  {
   "cell_type": "markdown",
   "metadata": {},
   "source": [
    "# The Formidable Module?"
   ]
  },
  {
   "cell_type": "markdown",
   "metadata": {},
   "source": [
    "The `formidable` module in Node.js is used for parsing form data, especially file uploads. It is a powerful tool for handling file uploads in web applications.\n",
    "\n",
    "### Key Features\n",
    "\n",
    "1. **File Upload Handling**:\n",
    "   - Parses incoming file uploads and stores them in a temporary directory.\n",
    "\n",
    "2. **Form Data Parsing**:\n",
    "   - Parses form fields and files from multipart forms.\n",
    "\n",
    "3. **Event-Driven**:\n",
    "   - Uses events to handle various stages of file upload and form parsing.\n",
    "\n",
    "### Installation\n",
    "\n",
    "To use the `formidable` module, you need to install it via npm:\n",
    "\n"
   ]
  },
  {
   "cell_type": "code",
   "execution_count": null,
   "metadata": {
    "vscode": {
     "languageId": "sh"
    }
   },
   "outputs": [],
   "source": [
    "npm install formidable"
   ]
  },
  {
   "cell_type": "markdown",
   "metadata": {},
   "source": [
    "\n",
    "\n",
    "### Basic Usage\n",
    "\n",
    "Here is a basic example demonstrating how to use the `formidable` module to handle file uploads in a Node.js application:\n",
    "\n",
    "#### Step-by-Step Explanation\n",
    "\n",
    "1. **Import the `formidable` module**:\n",
    "   - Use `require('formidable')` to import the module.\n",
    "\n",
    "2. **Create an IncomingForm instance**:\n",
    "   - Use `new formidable.IncomingForm()` to create a form parser.\n",
    "\n",
    "3. **Parse the incoming request**:\n",
    "   - Use the `parse` method to parse the incoming request.\n",
    "\n",
    "4. **Handle events**:\n",
    "   - Use events like `file`, `field`, `error`, and `end` to handle different stages of the parsing process.\n",
    "\n",
    "### Example Code\n",
    "\n"
   ]
  },
  {
   "cell_type": "code",
   "execution_count": null,
   "metadata": {
    "vscode": {
     "languageId": "javascript"
    }
   },
   "outputs": [],
   "source": [
    "const http = require('http');\n",
    "const formidable = require('formidable');\n",
    "const fs = require('fs');\n",
    "const path = require('path');\n",
    "\n",
    "// Create an HTTP server\n",
    "const server = http.createServer((req, res) => {\n",
    "  if (req.method.toLowerCase() === 'post') {\n",
    "    // Create an instance of the IncomingForm class\n",
    "    const form = new formidable.IncomingForm();\n",
    "\n",
    "    // Specify the upload directory\n",
    "    form.uploadDir = path.join(__dirname, 'uploads');\n",
    "    form.keepExtensions = true;\n",
    "\n",
    "    // Parse the incoming request containing the form data\n",
    "    form.parse(req, (err, fields, files) => {\n",
    "      if (err) {\n",
    "        res.writeHead(500, { 'Content-Type': 'text/plain' });\n",
    "        res.end('Error parsing the form');\n",
    "        return;\n",
    "      }\n",
    "\n",
    "      // Handle the uploaded file\n",
    "      const uploadedFile = files.upload;\n",
    "      const oldPath = uploadedFile.path;\n",
    "      const newPath = path.join(form.uploadDir, uploadedFile.name);\n",
    "\n",
    "      // Rename the file to its original name\n",
    "      fs.rename(oldPath, newPath, (err) => {\n",
    "        if (err) {\n",
    "          res.writeHead(500, { 'Content-Type': 'text/plain' });\n",
    "          res.end('Error saving the file');\n",
    "          return;\n",
    "        }\n",
    "\n",
    "        res.writeHead(200, { 'Content-Type': 'text/plain' });\n",
    "        res.end('File uploaded successfully');\n",
    "      });\n",
    "    });\n",
    "\n",
    "    // Handle file event\n",
    "    form.on('file', (name, file) => {\n",
    "      console.log(`Uploaded file: ${file.name}`);\n",
    "    });\n",
    "\n",
    "    // Handle field event\n",
    "    form.on('field', (name, value) => {\n",
    "      console.log(`Field: ${name} = ${value}`);\n",
    "    });\n",
    "\n",
    "    // Handle error event\n",
    "    form.on('error', (err) => {\n",
    "      console.error('Error occurred:', err);\n",
    "    });\n",
    "\n",
    "    // Handle end event\n",
    "    form.on('end', () => {\n",
    "      console.log('File upload complete');\n",
    "    });\n",
    "  } else {\n",
    "    // Serve a simple HTML form for file upload\n",
    "    res.writeHead(200, { 'Content-Type': 'text/html' });\n",
    "    res.end(`\n",
    "      <form action=\"/\" method=\"post\" enctype=\"multipart/form-data\">\n",
    "        <input type=\"file\" name=\"upload\" />\n",
    "        <button type=\"submit\">Upload</button>\n",
    "      </form>\n",
    "    `);\n",
    "  }\n",
    "});\n",
    "\n",
    "// Start the server\n",
    "server.listen(3000, () => {\n",
    "  console.log('Server listening on port 3000');\n",
    "});"
   ]
  },
  {
   "cell_type": "markdown",
   "metadata": {},
   "source": [
    "\n",
    "\n",
    "### Explanation\n",
    "\n",
    "1. **Import the Required Modules**:\n",
    "   ```javascript\n",
    "   const http = require('http');\n",
    "   const formidable = require('formidable');\n",
    "   const fs = require('fs');\n",
    "   const path = require('path');\n",
    "   ```\n",
    "\n",
    "2. **Create an HTTP Server**:\n",
    "   ```javascript\n",
    "   const server = http.createServer((req, res) => {\n",
    "     if (req.method.toLowerCase() === 'post') {\n",
    "       // Handle file upload\n",
    "     } else {\n",
    "       // Serve the HTML form\n",
    "     }\n",
    "   });\n",
    "   ```\n",
    "\n",
    "3. **Create an IncomingForm Instance**:\n",
    "   ```javascript\n",
    "   const form = new formidable.IncomingForm();\n",
    "   form.uploadDir = path.join(__dirname, 'uploads');\n",
    "   form.keepExtensions = true;\n",
    "   ```\n",
    "\n",
    "4. **Parse the Incoming Request**:\n",
    "   ```javascript\n",
    "   form.parse(req, (err, fields, files) => {\n",
    "     if (err) {\n",
    "       res.writeHead(500, { 'Content-Type': 'text/plain' });\n",
    "       res.end('Error parsing the form');\n",
    "       return;\n",
    "     }\n",
    "\n",
    "     // Handle the uploaded file\n",
    "   });\n",
    "   ```\n",
    "\n",
    "5. **Handle Events**:\n",
    "   ```javascript\n",
    "   form.on('file', (name, file) => {\n",
    "     console.log(`Uploaded file: ${file.name}`);\n",
    "   });\n",
    "\n",
    "   form.on('field', (name, value) => {\n",
    "     console.log(`Field: ${name} = ${value}`);\n",
    "   });\n",
    "\n",
    "   form.on('error', (err) => {\n",
    "     console.error('Error occurred:', err);\n",
    "   });\n",
    "\n",
    "   form.on('end', () => {\n",
    "     console.log('File upload complete');\n",
    "   });\n",
    "   ```\n",
    "\n",
    "6. **Serve the HTML Form**:\n",
    "   ```javascript\n",
    "   res.writeHead(200, { 'Content-Type': 'text/html' });\n",
    "   res.end(`\n",
    "     <form action=\"/\" method=\"post\" enctype=\"multipart/form-data\">\n",
    "       <input type=\"file\" name=\"upload\" />\n",
    "       <button type=\"submit\">Upload</button>\n",
    "     </form>\n",
    "   `);\n",
    "   ```\n",
    "\n",
    "### Summary\n",
    "\n",
    "The `formidable` module in Node.js is a robust solution for handling file uploads and parsing form data. It provides an easy-to-use API and supports various events to manage different stages of the file upload process."
   ]
  },
  {
   "cell_type": "markdown",
   "metadata": {},
   "source": [
    "# How to Upload Files Step By Step Process?"
   ]
  },
  {
   "cell_type": "markdown",
   "metadata": {},
   "source": [
    "To upload files in a Node.js application using the `formidable` module, follow these step-by-step instructions:\n",
    "\n",
    "### Step 1: Install Dependencies\n",
    "\n",
    "First, you need to install the `formidable` module using npm:\n",
    "\n"
   ]
  },
  {
   "cell_type": "code",
   "execution_count": null,
   "metadata": {
    "vscode": {
     "languageId": "sh"
    }
   },
   "outputs": [],
   "source": [
    "npm install formidable"
   ]
  },
  {
   "cell_type": "markdown",
   "metadata": {},
   "source": [
    "\n",
    "\n",
    "### Step 2: Set Up the Project\n",
    "\n",
    "Create a new directory for your project and navigate into it:\n",
    "\n"
   ]
  },
  {
   "cell_type": "code",
   "execution_count": null,
   "metadata": {
    "vscode": {
     "languageId": "sh"
    }
   },
   "outputs": [],
   "source": [
    "mkdir file-upload-example\n",
    "cd file-upload-example"
   ]
  },
  {
   "cell_type": "markdown",
   "metadata": {},
   "source": [
    "\n",
    "\n",
    "Initialize a new Node.js project:\n",
    "\n"
   ]
  },
  {
   "cell_type": "code",
   "execution_count": null,
   "metadata": {
    "vscode": {
     "languageId": "sh"
    }
   },
   "outputs": [],
   "source": [
    "npm init -y"
   ]
  },
  {
   "cell_type": "markdown",
   "metadata": {},
   "source": [
    "\n",
    "\n",
    "### Step 3: Create the Server\n",
    "\n",
    "Create a file named `server.js` and set up a basic HTTP server using the `http` module and `formidable` for handling file uploads.\n",
    "\n",
    "### Step 4: Write the Code\n",
    "\n",
    "Here is the complete code for `server.js`:\n",
    "\n"
   ]
  },
  {
   "cell_type": "code",
   "execution_count": null,
   "metadata": {
    "vscode": {
     "languageId": "javascript"
    }
   },
   "outputs": [],
   "source": [
    "const http = require('http');\n",
    "const formidable = require('formidable');\n",
    "const fs = require('fs');\n",
    "const path = require('path');\n",
    "\n",
    "// Create an HTTP server\n",
    "const server = http.createServer((req, res) => {\n",
    "  if (req.method.toLowerCase() === 'post') {\n",
    "    // Create an instance of the IncomingForm class\n",
    "    const form = new formidable.IncomingForm();\n",
    "\n",
    "    // Specify the upload directory\n",
    "    form.uploadDir = path.join(__dirname, 'uploads');\n",
    "    form.keepExtensions = true;\n",
    "\n",
    "    // Parse the incoming request containing the form data\n",
    "    form.parse(req, (err, fields, files) => {\n",
    "      if (err) {\n",
    "        res.writeHead(500, { 'Content-Type': 'text/plain' });\n",
    "        res.end('Error parsing the form');\n",
    "        return;\n",
    "      }\n",
    "\n",
    "      // Handle the uploaded file\n",
    "      const uploadedFile = files.upload;\n",
    "      const oldPath = uploadedFile.path;\n",
    "      const newPath = path.join(form.uploadDir, uploadedFile.name);\n",
    "\n",
    "      // Rename the file to its original name\n",
    "      fs.rename(old\n",
    "\n",
    "Path\n",
    "\n",
    ", newPath, (err) => {\n",
    "        if (err) {\n",
    "          res.writeHead(500, { 'Content-Type': 'text/plain' });\n",
    "          res.end('Error saving the file');\n",
    "          return;\n",
    "        }\n",
    "\n",
    "        res.writeHead(200, { 'Content-Type': 'text/plain' });\n",
    "        res.end('File uploaded successfully');\n",
    "      });\n",
    "    });\n",
    "\n",
    "    // Handle file event\n",
    "    form.on('file', (name, file) => {\n",
    "      console.log(`Uploaded file: ${file.name}`);\n",
    "    });\n",
    "\n",
    "    // Handle field event\n",
    "    form.on('field', (name, value) => {\n",
    "      console.log(`Field: ${name} = ${value}`);\n",
    "    });\n",
    "\n",
    "    // Handle error event\n",
    "    form.on('error', (err) => {\n",
    "      console.error('Error occurred:', err);\n",
    "    });\n",
    "\n",
    "    // Handle end event\n",
    "    form.on('end', () => {\n",
    "      console.log('File upload complete');\n",
    "    });\n",
    "  } else {\n",
    "    // Serve a simple HTML form for file upload\n",
    "    res.writeHead(200, { 'Content-Type': 'text/html' });\n",
    "    res.end(`\n",
    "      <form action=\"/\" method=\"post\" enctype=\"multipart/form-data\">\n",
    "        <input type=\"file\" name=\"upload\" />\n",
    "        <button type=\"submit\">Upload</button>\n",
    "      </form>\n",
    "    `);\n",
    "  }\n",
    "});\n",
    "\n",
    "// Start the server\n",
    "server.listen(3000, () => {\n",
    "  console.log('Server listening on port 3000');\n",
    "});"
   ]
  },
  {
   "cell_type": "markdown",
   "metadata": {},
   "source": [
    "\n",
    "\n",
    "### Step 5: Create the Upload Directory\n",
    "\n",
    "Create a directory named `uploads` in the project root to store the uploaded files:\n",
    "\n"
   ]
  },
  {
   "cell_type": "code",
   "execution_count": null,
   "metadata": {
    "vscode": {
     "languageId": "sh"
    }
   },
   "outputs": [],
   "source": [
    "mkdir uploads"
   ]
  },
  {
   "cell_type": "markdown",
   "metadata": {},
   "source": [
    "\n",
    "\n",
    "### Step 6: Run the Server\n",
    "\n",
    "Start the server by running the following command:\n",
    "\n"
   ]
  },
  {
   "cell_type": "code",
   "execution_count": null,
   "metadata": {
    "vscode": {
     "languageId": "sh"
    }
   },
   "outputs": [],
   "source": [
    "node server.js"
   ]
  },
  {
   "cell_type": "markdown",
   "metadata": {},
   "source": [
    "\n",
    "\n",
    "### Step 7: Test the File Upload\n",
    "\n",
    "Open a web browser and navigate to `http://localhost:3000`. You should see a simple HTML form for file upload. Select a file and click the \"Upload\" button. The file will be uploaded to the `uploads` directory, and you should see a success message.\n",
    "\n",
    "### Summary\n",
    "\n",
    "1. **Install `formidable`**:\n",
    "   ```sh\n",
    "   npm install formidable\n",
    "   ```\n",
    "\n",
    "2. **Set Up Project**:\n",
    "   ```sh\n",
    "   mkdir file-upload-example\n",
    "   cd file-upload-example\n",
    "   npm init -y\n",
    "   ```\n",
    "\n",
    "3. **Create `server.js`**:\n",
    "   ```javascript\n",
    "   const http = require('http');\n",
    "   const formidable = require('formidable');\n",
    "   const fs = require('fs');\n",
    "   const path = require('path');\n",
    "\n",
    "   const server = http.createServer((req, res) => {\n",
    "     if (req.method.toLowerCase() === 'post') {\n",
    "       const form = new formidable.IncomingForm();\n",
    "       form.uploadDir = path.join(__dirname, 'uploads');\n",
    "       form.keepExtensions = true;\n",
    "\n",
    "       form.parse(req, (err, fields, files) => {\n",
    "         if (err) {\n",
    "           res.writeHead(500, { 'Content-Type': 'text/plain' });\n",
    "           res.end('Error parsing the form');\n",
    "           return;\n",
    "         }\n",
    "\n",
    "         const uploadedFile = files.upload;\n",
    "         const oldPath = uploadedFile.path;\n",
    "         const newPath = path.join(form.uploadDir, uploadedFile.name);\n",
    "\n",
    "         fs.rename(oldPath, newPath, (err) => {\n",
    "           if (err) {\n",
    "             res.writeHead(500, { 'Content-Type': 'text/plain' });\n",
    "             res.end('Error saving the file');\n",
    "             return;\n",
    "           }\n",
    "\n",
    "           res.writeHead(200, { 'Content-Type': 'text/plain' });\n",
    "           res.end('File uploaded successfully');\n",
    "         });\n",
    "       });\n",
    "\n",
    "       form.on('file', (name, file) => {\n",
    "         console.log(`Uploaded file: ${file.name}`);\n",
    "       });\n",
    "\n",
    "       form.on('field', (name, value) => {\n",
    "         console.log(`Field: ${name} = ${value}`);\n",
    "       });\n",
    "\n",
    "       form.on('error', (err) => {\n",
    "         console.error('Error occurred:', err);\n",
    "       });\n",
    "\n",
    "       form.on('end', () => {\n",
    "         console.log('File upload complete');\n",
    "       });\n",
    "     } else {\n",
    "       res.writeHead(200, { 'Content-Type': 'text/html' });\n",
    "       res.end(`\n",
    "         <form action=\"/\" method=\"post\" enctype=\"multipart/form-data\">\n",
    "           <input type=\"file\" name=\"upload\" />\n",
    "           <button type=\"submit\">Upload</button>\n",
    "         </form>\n",
    "       `);\n",
    "     }\n",
    "   });\n",
    "\n",
    "   server.listen(3000, () => {\n",
    "     console.log('Server listening on port 3000');\n",
    "   });\n",
    "   ```\n",
    "\n",
    "4. **Create Upload Directory**:\n",
    "   ```sh\n",
    "   mkdir uploads\n",
    "   ```\n",
    "\n",
    "5. **Run the Server**:\n",
    "   ```sh\n",
    "   node server.js\n",
    "   ```\n",
    "\n",
    "6. **Test the Upload**:\n",
    "   - Open `http://localhost:3000` in a web browser.\n",
    "   - Upload a file using the form.\n",
    "\n",
    "This process will allow you to handle file uploads in a Node.js application using the `formidable` module."
   ]
  },
  {
   "cell_type": "markdown",
   "metadata": {},
   "source": [
    "# Thank You!"
   ]
  }
 ],
 "metadata": {
  "language_info": {
   "name": "python"
  }
 },
 "nbformat": 4,
 "nbformat_minor": 2
}
