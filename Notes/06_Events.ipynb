{
 "cells": [
  {
   "cell_type": "markdown",
   "metadata": {},
   "source": [
    "# Events in Node.js?"
   ]
  },
  {
   "cell_type": "markdown",
   "metadata": {},
   "source": [
    "In Node.js, events are a core concept that allows asynchronous communication between different parts of an application. Node.js has a built-in module called `events` that provides an `EventEmitter` class, which is used to handle events.\n",
    "\n",
    "### Key Concepts\n",
    "\n",
    "1. **EventEmitter Class**:\n",
    "   - The `EventEmitter` class is used to create, emit, and listen for events.\n",
    "\n",
    "2. **Event Listeners**:\n",
    "   - Functions that are called when a specific event is emitted.\n",
    "\n",
    "3. **Emitting Events**:\n",
    "   - Triggering an event so that all the listeners for that event are called.\n",
    "\n",
    "### Basic Usage\n",
    "\n",
    "Here is a simple example to demonstrate how events work in Node.js:\n",
    "\n",
    "#### Step-by-Step Explanation\n",
    "\n",
    "1. **Import the `events` module**:\n",
    "   - Use `require('events')` to import the module.\n",
    "\n",
    "2. **Create an instance of `EventEmitter`**:\n",
    "   - Use `new events.EventEmitter()` to create an event emitter object.\n",
    "\n",
    "3. **Register Event Listeners**:\n",
    "   - Use `on` or `addListener` methods to register listeners for specific events.\n",
    "\n",
    "4. **Emit Events**:\n",
    "   - Use the `emit` method to trigger an event.\n",
    "\n",
    "### Example Code\n",
    "\n"
   ]
  },
  {
   "cell_type": "code",
   "execution_count": null,
   "metadata": {
    "vscode": {
     "languageId": "javascript"
    }
   },
   "outputs": [],
   "source": [
    "const EventEmitter = require('events');\n",
    "\n",
    "// Create an instance of EventEmitter\n",
    "const eventEmitter = new EventEmitter();\n",
    "\n",
    "// Register an event listener for the 'greet' event\n",
    "eventEmitter.on('greet', (name) => {\n",
    "  console.log(`Hello, ${name}!`);\n",
    "});\n",
    "\n",
    "// Emit the 'greet' event\n",
    "eventEmitter.emit('greet', 'Alice');"
   ]
  },
  {
   "cell_type": "markdown",
   "metadata": {},
   "source": [
    "\n",
    "\n",
    "### Explanation\n",
    "\n",
    "1. **Import the `events` module**:\n",
    "   ```javascript\n",
    "   const EventEmitter = require('events');\n",
    "   ```\n",
    "\n",
    "2. **Create an instance of `EventEmitter`**:\n",
    "   ```javascript\n",
    "   const eventEmitter = new EventEmitter();\n",
    "   ```\n",
    "\n",
    "3. **Register an event listener**:\n",
    "   ```javascript\n",
    "   eventEmitter.on('greet', (name) => {\n",
    "     console.log(`Hello, ${name}!`);\n",
    "   });\n",
    "   ```\n",
    "   - This code registers a listener for the `greet` event. When the `greet` event is emitted, the provided callback function will be called with the argument passed to `emit`.\n",
    "\n",
    "4. **Emit the event**:\n",
    "   ```javascript\n",
    "   eventEmitter.emit('greet', 'Alice');\n",
    "   ```\n",
    "   - This code emits the `greet` event and passes `'Alice'` as an argument to the event listener.\n",
    "\n",
    "### Advanced Usage\n",
    "\n",
    "#### Handling Multiple Events\n",
    "\n",
    "You can register multiple listeners for different events:\n",
    "\n"
   ]
  },
  {
   "cell_type": "code",
   "execution_count": null,
   "metadata": {
    "vscode": {
     "languageId": "javascript"
    }
   },
   "outputs": [],
   "source": [
    "eventEmitter.on('greet', (name) => {\n",
    "  console.log(`Hello, ${name}!`);\n",
    "});\n",
    "\n",
    "eventEmitter.on('bye', (name) => {\n",
    "  console.log(`Goodbye, ${name}!`);\n",
    "});\n",
    "\n",
    "eventEmitter.emit('greet', 'Alice');\n",
    "eventEmitter.emit('bye', 'Bob');"
   ]
  },
  {
   "cell_type": "markdown",
   "metadata": {},
   "source": [
    "\n",
    "\n",
    "#### Removing Event Listeners\n",
    "\n",
    "You can remove event listeners using the `removeListener` or `off` methods:\n",
    "\n"
   ]
  },
  {
   "cell_type": "code",
   "execution_count": null,
   "metadata": {
    "vscode": {
     "languageId": "javascript"
    }
   },
   "outputs": [],
   "source": [
    "const greetListener = (name) => {\n",
    "  console.log(`Hello, ${name}!`);\n",
    "};\n",
    "\n",
    "eventEmitter.on('greet', greetListener);\n",
    "eventEmitter.emit('greet', 'Alice');\n",
    "\n",
    "// Remove the listener\n",
    "eventEmitter.removeListener('greet', greetListener);\n",
    "eventEmitter.emit('greet', 'Bob'); // No output, listener has been removed"
   ]
  },
  {
   "cell_type": "markdown",
   "metadata": {},
   "source": [
    "\n",
    "\n",
    "### Summary\n",
    "\n",
    "Events in Node.js provide a powerful way to handle asynchronous operations. The `EventEmitter` class allows you to create, emit, and listen for events, making it easier to manage complex asynchronous workflows."
   ]
  },
  {
   "cell_type": "markdown",
   "metadata": {},
   "source": [
    "# Events Module"
   ]
  },
  {
   "cell_type": "markdown",
   "metadata": {},
   "source": [
    "The `events` module in Node.js provides a way to work with events and event-driven programming. It includes the `EventEmitter` class, which is used to create, emit, and listen for events.\n",
    "\n",
    "### Key Components\n",
    "\n",
    "1. **EventEmitter Class**:\n",
    "   - The core class for handling events.\n",
    "\n",
    "2. **Event Listeners**:\n",
    "   - Functions that are called when a specific event is emitted.\n",
    "\n",
    "3. **Emitting Events**:\n",
    "   - Triggering an event so that all the listeners for that event are called.\n",
    "\n",
    "### Basic Usage\n",
    "\n",
    "#### Importing the `events` Module\n",
    "\n"
   ]
  },
  {
   "cell_type": "code",
   "execution_count": null,
   "metadata": {
    "vscode": {
     "languageId": "javascript"
    }
   },
   "outputs": [],
   "source": [
    "const EventEmitter = require('events');"
   ]
  },
  {
   "cell_type": "markdown",
   "metadata": {},
   "source": [
    "\n",
    "\n",
    "#### Creating an Instance of `EventEmitter`\n",
    "\n"
   ]
  },
  {
   "cell_type": "code",
   "execution_count": null,
   "metadata": {
    "vscode": {
     "languageId": "javascript"
    }
   },
   "outputs": [],
   "source": [
    "const eventEmitter = new EventEmitter();"
   ]
  },
  {
   "cell_type": "markdown",
   "metadata": {},
   "source": [
    "\n",
    "\n",
    "#### Registering Event Listeners\n",
    "\n"
   ]
  },
  {
   "cell_type": "code",
   "execution_count": null,
   "metadata": {
    "vscode": {
     "languageId": "javascript"
    }
   },
   "outputs": [],
   "source": [
    "eventEmitter.on('eventName', (arg1, arg2) => {\n",
    "  console.log(`Event triggered with arguments: ${arg1}, ${arg2}`);\n",
    "});"
   ]
  },
  {
   "cell_type": "markdown",
   "metadata": {},
   "source": [
    "\n",
    "\n",
    "#### Emitting Events\n",
    "\n"
   ]
  },
  {
   "cell_type": "code",
   "execution_count": null,
   "metadata": {
    "vscode": {
     "languageId": "javascript"
    }
   },
   "outputs": [],
   "source": [
    "eventEmitter.emit('eventName', 'arg1Value', 'arg2Value');"
   ]
  },
  {
   "cell_type": "markdown",
   "metadata": {},
   "source": [
    "\n",
    "\n",
    "### Example Code\n",
    "\n",
    "Here is a complete example demonstrating the basic usage of the `events` module:\n",
    "\n"
   ]
  },
  {
   "cell_type": "code",
   "execution_count": null,
   "metadata": {
    "vscode": {
     "languageId": "javascript"
    }
   },
   "outputs": [],
   "source": [
    "const EventEmitter = require('events');\n",
    "\n",
    "// Create an instance of EventEmitter\n",
    "const eventEmitter = new EventEmitter();\n",
    "\n",
    "// Register an event listener for the 'greet' event\n",
    "eventEmitter.on('greet', (name) => {\n",
    "  console.log(`Hello, ${name}!`);\n",
    "});\n",
    "\n",
    "// Emit the 'greet' event\n",
    "eventEmitter.emit('greet', 'Alice');"
   ]
  },
  {
   "cell_type": "markdown",
   "metadata": {},
   "source": [
    "\n",
    "\n",
    "### Advanced Usage\n",
    "\n",
    "#### Handling Multiple Events\n",
    "\n",
    "You can register multiple listeners for different events:\n",
    "\n"
   ]
  },
  {
   "cell_type": "code",
   "execution_count": null,
   "metadata": {
    "vscode": {
     "languageId": "javascript"
    }
   },
   "outputs": [],
   "source": [
    "eventEmitter.on('greet', (name) => {\n",
    "  console.log(`Hello, ${name}!`);\n",
    "});\n",
    "\n",
    "eventEmitter.on('bye', (name) => {\n",
    "  console.log(`Goodbye, ${name}!`);\n",
    "});\n",
    "\n",
    "eventEmitter.emit('greet', 'Alice');\n",
    "eventEmitter.emit('bye', 'Bob');"
   ]
  },
  {
   "cell_type": "markdown",
   "metadata": {},
   "source": [
    "\n",
    "\n",
    "#### Removing Event Listeners\n",
    "\n",
    "You can remove event listeners using the `removeListener` or `off` methods:\n",
    "\n"
   ]
  },
  {
   "cell_type": "code",
   "execution_count": null,
   "metadata": {
    "vscode": {
     "languageId": "javascript"
    }
   },
   "outputs": [],
   "source": [
    "const greetListener = (name) => {\n",
    "  console.log(`Hello, ${name}!`);\n",
    "};\n",
    "\n",
    "eventEmitter.on('greet', greetListener);\n",
    "eventEmitter.emit('greet', 'Alice');\n",
    "\n",
    "// Remove the listener\n",
    "eventEmitter.removeListener('greet', greetListener);\n",
    "eventEmitter.emit('greet', 'Bob'); // No output, listener has been removed"
   ]
  },
  {
   "cell_type": "markdown",
   "metadata": {},
   "source": [
    "\n",
    "\n",
    "#### Once Method\n",
    "\n",
    "The `once` method allows you to register a listener that will be called at most once for a particular event:\n",
    "\n"
   ]
  },
  {
   "cell_type": "code",
   "execution_count": null,
   "metadata": {
    "vscode": {
     "languageId": "javascript"
    }
   },
   "outputs": [],
   "source": [
    "eventEmitter.once('greet', (name) => {\n",
    "  console.log(`Hello, ${name}! This will be logged only once.`);\n",
    "});\n",
    "\n",
    "eventEmitter.emit('greet', 'Alice');\n",
    "eventEmitter.emit('greet', 'Bob'); // This will not trigger the listener"
   ]
  },
  {
   "cell_type": "markdown",
   "metadata": {},
   "source": [
    "\n",
    "\n",
    "### Error Handling\n",
    "\n",
    "The `EventEmitter` class has a special event named `error`. If an `error` event is emitted and there are no listeners for it, Node.js will print a stack trace and exit the process. Therefore, it's a good practice to always handle `error` events:\n",
    "\n"
   ]
  },
  {
   "cell_type": "code",
   "execution_count": null,
   "metadata": {
    "vscode": {
     "languageId": "javascript"
    }
   },
   "outputs": [],
   "source": [
    "eventEmitter.on('error', (err) => {\n",
    "  console.error('An error occurred:', err);\n",
    "});\n",
    "\n",
    "// Emit an error event\n",
    "eventEmitter.emit('error', new Error('Something went wrong'));"
   ]
  },
  {
   "cell_type": "markdown",
   "metadata": {},
   "source": [
    "\n",
    "\n",
    "### Summary\n",
    "\n",
    "The `events` module in Node.js is a powerful tool for handling asynchronous operations through event-driven programming. The `EventEmitter` class allows you to create, emit, and listen for events, making it easier to manage complex workflows and asynchronous tasks."
   ]
  },
  {
   "cell_type": "markdown",
   "metadata": {},
   "source": [
    "# The EventEmitter Object"
   ]
  },
  {
   "cell_type": "markdown",
   "metadata": {},
   "source": [
    "The `EventEmitter` object in Node.js is a core part of the `events` module and is used to handle events in an event-driven manner. It provides methods to register event listeners, emit events, and manage event listeners.\n",
    "\n",
    "### Key Methods and Properties\n",
    "\n",
    "1. **on(event, listener)**:\n",
    "   - Registers a listener for the specified event.\n",
    "   - Alias: `addListener(event, listener)`\n",
    "\n",
    "2. **once(event, listener)**:\n",
    "   - Registers a one-time listener for the specified event. The listener is invoked only the next time the event is fired, after which it is removed.\n",
    "\n",
    "3. **emit(event, [...args])**:\n",
    "   - Emits the specified event, calling all the listeners registered for that event with the provided arguments.\n",
    "\n",
    "4. **removeListener(event, listener)**:\n",
    "   - Removes a specific listener for the specified event.\n",
    "   - Alias: `off(event, listener)`\n",
    "\n",
    "5. **removeAllListeners([event])**:\n",
    "   - Removes all listeners for the specified event. If no event is specified, it removes all listeners for all events.\n",
    "\n",
    "6. **listeners(event)**:\n",
    "   - Returns an array of listeners for the specified event.\n",
    "\n",
    "7. **listenerCount(event)**:\n",
    "   - Returns the number of listeners for the specified event.\n",
    "\n",
    "8. **eventNames()**:\n",
    "   - Returns an array of event names for which the emitter has registered listeners.\n",
    "\n",
    "### Example Code\n",
    "\n",
    "Here is an example demonstrating the use of the `EventEmitter` object:\n",
    "\n"
   ]
  },
  {
   "cell_type": "code",
   "execution_count": null,
   "metadata": {
    "vscode": {
     "languageId": "javascript"
    }
   },
   "outputs": [],
   "source": [
    "const EventEmitter = require('events');\n",
    "\n",
    "// Create an instance of EventEmitter\n",
    "const eventEmitter = new EventEmitter();\n",
    "\n",
    "// Register an event listener for the 'greet' event\n",
    "eventEmitter.on('greet', (name) => {\n",
    "  console.log(`Hello, ${name}!`);\n",
    "});\n",
    "\n",
    "// Register a one-time listener for the 'greet' event\n",
    "eventEmitter.once('greet', (name) => {\n",
    "  console.log(`This will be logged only once for ${name}.`);\n",
    "});\n",
    "\n",
    "// Emit the 'greet' event\n",
    "eventEmitter.emit('greet', 'Alice');\n",
    "eventEmitter.emit('greet', 'Bob');\n",
    "\n",
    "// Remove a specific listener\n",
    "const farewellListener = (name) => {\n",
    "  console.log(`Goodbye, ${name}!`);\n",
    "};\n",
    "\n",
    "eventEmitter.on('farewell', farewellListener);\n",
    "eventEmitter.emit('farewell', 'Alice');\n",
    "\n",
    "// Remove the 'farewell' listener\n",
    "eventEmitter.removeListener('farewell', farewellListener);\n",
    "eventEmitter.emit('farewell', 'Bob'); // No output, listener has been removed\n",
    "\n",
    "// Get the number of listeners for 'greet' event\n",
    "console.log(eventEmitter.listenerCount('greet')); // Output: 1\n",
    "\n",
    "// Get the event names\n",
    "console.log(eventEmitter.eventNames()); // Output: [ 'greet', 'farewell' ]\n",
    "\n",
    "// Remove all listeners for 'greet' event\n",
    "eventEmitter.removeAllListeners('greet');\n",
    "eventEmitter.emit('greet', 'Charlie'); // No output, all listeners have been removed"
   ]
  },
  {
   "cell_type": "markdown",
   "metadata": {},
   "source": [
    "\n",
    "\n",
    "### Explanation\n",
    "\n",
    "1. **Creating an Instance**:\n",
    "   ```javascript\n",
    "   const eventEmitter = new EventEmitter();\n",
    "   ```\n",
    "\n",
    "2. **Registering Listeners**:\n",
    "   ```javascript\n",
    "   eventEmitter.on('greet', (name) => {\n",
    "     console.log(`Hello, ${name}!`);\n",
    "   });\n",
    "\n",
    "   eventEmitter.once('greet', (name) => {\n",
    "     console.log(`This will be logged only once for ${name}.`);\n",
    "   });\n",
    "   ```\n",
    "\n",
    "3. **Emitting Events**:\n",
    "   ```javascript\n",
    "   eventEmitter.emit('greet', 'Alice');\n",
    "   eventEmitter.emit('greet', 'Bob');\n",
    "   ```\n",
    "\n",
    "4. **Removing Listeners**:\n",
    "   ```javascript\n",
    "   const farewellListener = (name) => {\n",
    "     console.log(`Goodbye, ${name}!`);\n",
    "   };\n",
    "\n",
    "   eventEmitter.on('farewell', farewellListener);\n",
    "   eventEmitter.emit('farewell', 'Alice');\n",
    "\n",
    "   eventEmitter.removeListener('farewell', farewellListener);\n",
    "   eventEmitter.emit('farewell', 'Bob'); // No output, listener has been removed\n",
    "   ```\n",
    "\n",
    "5. **Getting Listener Count and Event Names**:\n",
    "   ```javascript\n",
    "   console.log(eventEmitter.listenerCount('greet')); // Output: 1\n",
    "   console.log(eventEmitter.eventNames()); // Output: [ 'greet', 'farewell' ]\n",
    "   ```\n",
    "\n",
    "6. **Removing All Listeners**:\n",
    "   ```javascript\n",
    "   eventEmitter.removeAllListeners('greet');\n",
    "   eventEmitter.emit('greet', 'Charlie'); // No output, all listeners have been removed\n",
    "   ```\n",
    "\n",
    "### Summary\n",
    "\n",
    "The `EventEmitter` object in Node.js is a powerful tool for managing events and event listeners. It provides a flexible API for registering, emitting, and managing event listeners, making it easier to build event-driven applications."
   ]
  },
  {
   "cell_type": "markdown",
   "metadata": {},
   "source": [
    "# Thank You!"
   ]
  }
 ],
 "metadata": {
  "language_info": {
   "name": "python"
  }
 },
 "nbformat": 4,
 "nbformat_minor": 2
}
